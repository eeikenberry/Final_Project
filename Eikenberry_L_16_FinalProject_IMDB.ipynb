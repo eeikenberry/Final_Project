{
 "cells": [
  {
   "cell_type": "markdown",
   "metadata": {},
   "source": [
    "# Final Project\n",
    "L. Eikenberry \"On my honor, as a student, I have neither given nor received unauthorized aid on this academic work\""
   ]
  },
  {
   "cell_type": "markdown",
   "metadata": {},
   "source": [
    "## Import Packages"
   ]
  },
  {
   "cell_type": "code",
   "execution_count": 536,
   "metadata": {},
   "outputs": [],
   "source": [
    "import numpy as np\n",
    "import pandas as pd\n",
    "import matplotlib.pyplot as plt\n",
    "import seaborn as sns\n",
    "%matplotlib inline\n",
    "\n",
    "# Classifiers\n",
    "#import decisiontreeclassifier\n",
    "from sklearn import tree\n",
    "from sklearn.tree import DecisionTreeClassifier\n",
    "#import logisticregression classifier\n",
    "from sklearn.linear_model import LogisticRegression\n",
    "import statsmodels.api as sm\n",
    "#import knn classifier\n",
    "from sklearn.neighbors import KNeighborsClassifier\n",
    "\n",
    "#for validating your classification model\n",
    "from sklearn.model_selection import train_test_split\n",
    "from sklearn.model_selection import cross_val_score\n",
    "from sklearn import metrics\n",
    "from sklearn.metrics import roc_curve, auc\n",
    "from sklearn.metrics import roc_auc_score\n",
    "\n",
    "# feature selection\n",
    "from sklearn.feature_selection import RFE\n",
    "from sklearn.ensemble import ExtraTreesClassifier\n",
    "from sklearn.feature_selection import SelectKBest\n",
    "from sklearn.feature_selection import chi2\n",
    "\n",
    "#regression packages\n",
    "import sklearn.linear_model as lm\n",
    "from sklearn.metrics import mean_squared_error\n",
    "from sklearn.metrics import explained_variance_score\n",
    "\n",
    "import statsmodels.api as sm\n",
    "from statsmodels.formula.api import ols\n",
    "from sklearn import linear_model\n",
    "\n",
    "#f_regression (feature selection)\n",
    "from sklearn.feature_selection import f_regression\n",
    "from sklearn.feature_selection import SelectKBest\n",
    "\n",
    "# recursive feature selection (feature selection)\n",
    "from sklearn.feature_selection import RFE\n",
    "\n",
    "import statsmodels.api as sm\n",
    "from statsmodels.formula.api import ols\n",
    "from scipy import stats \n",
    "import scipy.stats as stats\n",
    "from scipy.stats import pearsonr\n",
    "\n",
    "#clustering\n",
    "from sklearn.cluster import KMeans\n",
    "\n",
    "from sklearn.cluster import AgglomerativeClustering\n",
    "from sklearn.metrics import pairwise_distances"
   ]
  },
  {
   "cell_type": "markdown",
   "metadata": {},
   "source": [
    "## Import Data"
   ]
  },
  {
   "cell_type": "code",
   "execution_count": 537,
   "metadata": {},
   "outputs": [
    {
     "data": {
      "text/html": [
       "<div>\n",
       "<style scoped>\n",
       "    .dataframe tbody tr th:only-of-type {\n",
       "        vertical-align: middle;\n",
       "    }\n",
       "\n",
       "    .dataframe tbody tr th {\n",
       "        vertical-align: top;\n",
       "    }\n",
       "\n",
       "    .dataframe thead th {\n",
       "        text-align: right;\n",
       "    }\n",
       "</style>\n",
       "<table border=\"1\" class=\"dataframe\">\n",
       "  <thead>\n",
       "    <tr style=\"text-align: right;\">\n",
       "      <th></th>\n",
       "      <th>color</th>\n",
       "      <th>director_name</th>\n",
       "      <th>num_critic_for_reviews</th>\n",
       "      <th>duration</th>\n",
       "      <th>director_facebook_likes</th>\n",
       "      <th>actor_3_facebook_likes</th>\n",
       "      <th>actor_2_name</th>\n",
       "      <th>actor_1_facebook_likes</th>\n",
       "      <th>gross</th>\n",
       "      <th>genres</th>\n",
       "      <th>...</th>\n",
       "      <th>num_user_for_reviews</th>\n",
       "      <th>language</th>\n",
       "      <th>country</th>\n",
       "      <th>content_rating</th>\n",
       "      <th>budget</th>\n",
       "      <th>title_year</th>\n",
       "      <th>actor_2_facebook_likes</th>\n",
       "      <th>imdb_score</th>\n",
       "      <th>aspect_ratio</th>\n",
       "      <th>movie_facebook_likes</th>\n",
       "    </tr>\n",
       "  </thead>\n",
       "  <tbody>\n",
       "    <tr>\n",
       "      <th>0</th>\n",
       "      <td>Color</td>\n",
       "      <td>James Cameron</td>\n",
       "      <td>723.0</td>\n",
       "      <td>178.0</td>\n",
       "      <td>0.0</td>\n",
       "      <td>855.0</td>\n",
       "      <td>Joel David Moore</td>\n",
       "      <td>1000.0</td>\n",
       "      <td>760505847.0</td>\n",
       "      <td>Action|Adventure|Fantasy|Sci-Fi</td>\n",
       "      <td>...</td>\n",
       "      <td>3054.0</td>\n",
       "      <td>English</td>\n",
       "      <td>USA</td>\n",
       "      <td>PG-13</td>\n",
       "      <td>237000000.0</td>\n",
       "      <td>2009.0</td>\n",
       "      <td>936.0</td>\n",
       "      <td>7.9</td>\n",
       "      <td>1.78</td>\n",
       "      <td>33000</td>\n",
       "    </tr>\n",
       "    <tr>\n",
       "      <th>1</th>\n",
       "      <td>Color</td>\n",
       "      <td>Gore Verbinski</td>\n",
       "      <td>302.0</td>\n",
       "      <td>169.0</td>\n",
       "      <td>563.0</td>\n",
       "      <td>1000.0</td>\n",
       "      <td>Orlando Bloom</td>\n",
       "      <td>40000.0</td>\n",
       "      <td>309404152.0</td>\n",
       "      <td>Action|Adventure|Fantasy</td>\n",
       "      <td>...</td>\n",
       "      <td>1238.0</td>\n",
       "      <td>English</td>\n",
       "      <td>USA</td>\n",
       "      <td>PG-13</td>\n",
       "      <td>300000000.0</td>\n",
       "      <td>2007.0</td>\n",
       "      <td>5000.0</td>\n",
       "      <td>7.1</td>\n",
       "      <td>2.35</td>\n",
       "      <td>0</td>\n",
       "    </tr>\n",
       "    <tr>\n",
       "      <th>2</th>\n",
       "      <td>Color</td>\n",
       "      <td>Sam Mendes</td>\n",
       "      <td>602.0</td>\n",
       "      <td>148.0</td>\n",
       "      <td>0.0</td>\n",
       "      <td>161.0</td>\n",
       "      <td>Rory Kinnear</td>\n",
       "      <td>11000.0</td>\n",
       "      <td>200074175.0</td>\n",
       "      <td>Action|Adventure|Thriller</td>\n",
       "      <td>...</td>\n",
       "      <td>994.0</td>\n",
       "      <td>English</td>\n",
       "      <td>UK</td>\n",
       "      <td>PG-13</td>\n",
       "      <td>245000000.0</td>\n",
       "      <td>2015.0</td>\n",
       "      <td>393.0</td>\n",
       "      <td>6.8</td>\n",
       "      <td>2.35</td>\n",
       "      <td>85000</td>\n",
       "    </tr>\n",
       "    <tr>\n",
       "      <th>3</th>\n",
       "      <td>Color</td>\n",
       "      <td>Christopher Nolan</td>\n",
       "      <td>813.0</td>\n",
       "      <td>164.0</td>\n",
       "      <td>22000.0</td>\n",
       "      <td>23000.0</td>\n",
       "      <td>Christian Bale</td>\n",
       "      <td>27000.0</td>\n",
       "      <td>448130642.0</td>\n",
       "      <td>Action|Thriller</td>\n",
       "      <td>...</td>\n",
       "      <td>2701.0</td>\n",
       "      <td>English</td>\n",
       "      <td>USA</td>\n",
       "      <td>PG-13</td>\n",
       "      <td>250000000.0</td>\n",
       "      <td>2012.0</td>\n",
       "      <td>23000.0</td>\n",
       "      <td>8.5</td>\n",
       "      <td>2.35</td>\n",
       "      <td>164000</td>\n",
       "    </tr>\n",
       "    <tr>\n",
       "      <th>4</th>\n",
       "      <td>NaN</td>\n",
       "      <td>Doug Walker</td>\n",
       "      <td>NaN</td>\n",
       "      <td>NaN</td>\n",
       "      <td>131.0</td>\n",
       "      <td>NaN</td>\n",
       "      <td>Rob Walker</td>\n",
       "      <td>131.0</td>\n",
       "      <td>NaN</td>\n",
       "      <td>Documentary</td>\n",
       "      <td>...</td>\n",
       "      <td>NaN</td>\n",
       "      <td>NaN</td>\n",
       "      <td>NaN</td>\n",
       "      <td>NaN</td>\n",
       "      <td>NaN</td>\n",
       "      <td>NaN</td>\n",
       "      <td>12.0</td>\n",
       "      <td>7.1</td>\n",
       "      <td>NaN</td>\n",
       "      <td>0</td>\n",
       "    </tr>\n",
       "  </tbody>\n",
       "</table>\n",
       "<p>5 rows × 28 columns</p>\n",
       "</div>"
      ],
      "text/plain": [
       "   color      director_name  num_critic_for_reviews  duration  \\\n",
       "0  Color      James Cameron                   723.0     178.0   \n",
       "1  Color     Gore Verbinski                   302.0     169.0   \n",
       "2  Color         Sam Mendes                   602.0     148.0   \n",
       "3  Color  Christopher Nolan                   813.0     164.0   \n",
       "4    NaN        Doug Walker                     NaN       NaN   \n",
       "\n",
       "   director_facebook_likes  actor_3_facebook_likes      actor_2_name  \\\n",
       "0                      0.0                   855.0  Joel David Moore   \n",
       "1                    563.0                  1000.0     Orlando Bloom   \n",
       "2                      0.0                   161.0      Rory Kinnear   \n",
       "3                  22000.0                 23000.0    Christian Bale   \n",
       "4                    131.0                     NaN        Rob Walker   \n",
       "\n",
       "   actor_1_facebook_likes        gross                           genres  ...  \\\n",
       "0                  1000.0  760505847.0  Action|Adventure|Fantasy|Sci-Fi  ...   \n",
       "1                 40000.0  309404152.0         Action|Adventure|Fantasy  ...   \n",
       "2                 11000.0  200074175.0        Action|Adventure|Thriller  ...   \n",
       "3                 27000.0  448130642.0                  Action|Thriller  ...   \n",
       "4                   131.0          NaN                      Documentary  ...   \n",
       "\n",
       "  num_user_for_reviews language  country  content_rating       budget  \\\n",
       "0               3054.0  English      USA           PG-13  237000000.0   \n",
       "1               1238.0  English      USA           PG-13  300000000.0   \n",
       "2                994.0  English       UK           PG-13  245000000.0   \n",
       "3               2701.0  English      USA           PG-13  250000000.0   \n",
       "4                  NaN      NaN      NaN             NaN          NaN   \n",
       "\n",
       "   title_year actor_2_facebook_likes imdb_score  aspect_ratio  \\\n",
       "0      2009.0                  936.0        7.9          1.78   \n",
       "1      2007.0                 5000.0        7.1          2.35   \n",
       "2      2015.0                  393.0        6.8          2.35   \n",
       "3      2012.0                23000.0        8.5          2.35   \n",
       "4         NaN                   12.0        7.1           NaN   \n",
       "\n",
       "  movie_facebook_likes  \n",
       "0                33000  \n",
       "1                    0  \n",
       "2                85000  \n",
       "3               164000  \n",
       "4                    0  \n",
       "\n",
       "[5 rows x 28 columns]"
      ]
     },
     "execution_count": 537,
     "metadata": {},
     "output_type": "execute_result"
    }
   ],
   "source": [
    "df=pd.read_csv(\"data/moviedata.csv\")\n",
    "df.head()"
   ]
  },
  {
   "cell_type": "markdown",
   "metadata": {},
   "source": [
    "# Business and Data Understanding\n",
    "### Problem Statement\n",
    "We want to determine which qualities of those contained in the IMDB score dataset are most influential in determining how high a movie scores. \n",
    "### Business Context\n",
    "The determining of qualities that cause IMDB scores to go up would be very important to filmmakers and film production companies as they, of course, want to maximize profits. \n",
    "### Business Value of the Solution\n",
    "This project would be very valuable to the aforementioned clients. IMDB scores are important to those in the film industry, and maximizing they scores is not only good for the profitability of the movie in it entirety, but is very influential on individuals that are involved in the movie's production. Actor and director individual popularity can increase from a good IMDB  movie score, and that would increase the value of that individuals' skill set. "
   ]
  },
  {
   "cell_type": "markdown",
   "metadata": {},
   "source": [
    "# Data Processing \n",
    "Here we will deal with issues in the data's clarity, integrity, and consistency."
   ]
  },
  {
   "cell_type": "markdown",
   "metadata": {},
   "source": [
    "### Identify Quality Issues"
   ]
  },
  {
   "cell_type": "code",
   "execution_count": 538,
   "metadata": {},
   "outputs": [
    {
     "name": "stdout",
     "output_type": "stream",
     "text": [
      "<class 'pandas.core.frame.DataFrame'>\n",
      "RangeIndex: 5043 entries, 0 to 5042\n",
      "Data columns (total 28 columns):\n",
      "color                        5024 non-null object\n",
      "director_name                4939 non-null object\n",
      "num_critic_for_reviews       4993 non-null float64\n",
      "duration                     5028 non-null float64\n",
      "director_facebook_likes      4939 non-null float64\n",
      "actor_3_facebook_likes       5020 non-null float64\n",
      "actor_2_name                 5030 non-null object\n",
      "actor_1_facebook_likes       5036 non-null float64\n",
      "gross                        4159 non-null float64\n",
      "genres                       5043 non-null object\n",
      "actor_1_name                 5036 non-null object\n",
      "movie_title                  5043 non-null object\n",
      "num_voted_users              5043 non-null int64\n",
      "cast_total_facebook_likes    5043 non-null int64\n",
      "actor_3_name                 5020 non-null object\n",
      "facenumber_in_poster         5030 non-null float64\n",
      "plot_keywords                4890 non-null object\n",
      "movie_imdb_link              5043 non-null object\n",
      "num_user_for_reviews         5022 non-null float64\n",
      "language                     5031 non-null object\n",
      "country                      5038 non-null object\n",
      "content_rating               4740 non-null object\n",
      "budget                       4551 non-null float64\n",
      "title_year                   4935 non-null float64\n",
      "actor_2_facebook_likes       5030 non-null float64\n",
      "imdb_score                   5043 non-null float64\n",
      "aspect_ratio                 4714 non-null float64\n",
      "movie_facebook_likes         5043 non-null int64\n",
      "dtypes: float64(13), int64(3), object(12)\n",
      "memory usage: 1.1+ MB\n"
     ]
    }
   ],
   "source": [
    "df.info()"
   ]
  },
  {
   "cell_type": "code",
   "execution_count": 539,
   "metadata": {},
   "outputs": [
    {
     "data": {
      "text/plain": [
       "color                         19\n",
       "director_name                104\n",
       "num_critic_for_reviews        50\n",
       "duration                      15\n",
       "director_facebook_likes      104\n",
       "actor_3_facebook_likes        23\n",
       "actor_2_name                  13\n",
       "actor_1_facebook_likes         7\n",
       "gross                        884\n",
       "genres                         0\n",
       "actor_1_name                   7\n",
       "movie_title                    0\n",
       "num_voted_users                0\n",
       "cast_total_facebook_likes      0\n",
       "actor_3_name                  23\n",
       "facenumber_in_poster          13\n",
       "plot_keywords                153\n",
       "movie_imdb_link                0\n",
       "num_user_for_reviews          21\n",
       "language                      12\n",
       "country                        5\n",
       "content_rating               303\n",
       "budget                       492\n",
       "title_year                   108\n",
       "actor_2_facebook_likes        13\n",
       "imdb_score                     0\n",
       "aspect_ratio                 329\n",
       "movie_facebook_likes           0\n",
       "dtype: int64"
      ]
     },
     "execution_count": 539,
     "metadata": {},
     "output_type": "execute_result"
    }
   ],
   "source": [
    "df.isnull().sum()"
   ]
  },
  {
   "cell_type": "markdown",
   "metadata": {},
   "source": [
    "There seems to be quite a bit of missing data. We will fix this in the below section."
   ]
  },
  {
   "cell_type": "markdown",
   "metadata": {},
   "source": [
    "## Data Cleaning \n",
    "### Renaming Columns "
   ]
  },
  {
   "cell_type": "code",
   "execution_count": 540,
   "metadata": {},
   "outputs": [
    {
     "data": {
      "text/plain": [
       "Index(['color', 'directorname', 'numcriticforreviews', 'duration',\n",
       "       'directorfacebooklikes', 'actor3facebooklikes', 'actor2name',\n",
       "       'actor1facebooklikes', 'gross', 'genres', 'actor1name', 'movietitle',\n",
       "       'numvotedusers', 'casttotalfacebooklikes', 'actor3name',\n",
       "       'facenumberinposter', 'plotkeywords', 'movieimdblink',\n",
       "       'numuserforreviews', 'language', 'country', 'contentrating', 'budget',\n",
       "       'titleyear', 'actor2facebooklikes', 'imdbscore', 'aspectratio',\n",
       "       'moviefacebooklikes'],\n",
       "      dtype='object')"
      ]
     },
     "execution_count": 540,
     "metadata": {},
     "output_type": "execute_result"
    }
   ],
   "source": [
    "df.columns = df.columns.str.replace('_','')\n",
    "df.columns"
   ]
  },
  {
   "cell_type": "markdown",
   "metadata": {},
   "source": [
    "### Handling Missing Values\n",
    "The following empty values will be replaced with a median, mean, or mode value in order to keep as many entries in the analysis as possible:\n",
    "   * Aspect Ratio\n",
    "   * Duration\n",
    "   * Number of Critics for Reviews\n",
    "   * Director Facebook Likes\n",
    "   * Actor 3 Facebook Likes\n",
    "   * Actor 1 Facenbook Likes\n",
    "   * Face Number in Poster\n",
    "   * Number of Users for Reviews\n",
    "   * Actor 2 Facebook Likes\n",
    "\n",
    "The following empty values will be replaced with the most frequently used string values:\n",
    "   * Color\n",
    "   * Language\n",
    "   * Country \n",
    "   * Content Rating\n",
    "\n",
    "The following empty values will be filled with 'No Data':\n",
    "   * Director Name\n",
    "   * Actor 2 Name\n",
    "   * Actor 1 Name\n",
    "   * Actor 3 Name\n",
    "   * Plot Key Words\n",
    "\n",
    "Rows with any data missing in the following columns will be dropped from the dataset*:\n",
    "   * Gross\n",
    "   * Budget\n",
    "   * Title Year\n",
    "\n",
    "*I am choosing to remove these values because I believe they will be heavily correlated to imdb_score, and replacing the empty values would supress any strong correlation we may find later. "
   ]
  },
  {
   "cell_type": "code",
   "execution_count": 541,
   "metadata": {},
   "outputs": [],
   "source": [
    "df = df.fillna({'aspectratio': (df['aspectratio'].median())})\n",
    "df = df.fillna({'duration': (df['duration'].median())})\n",
    "df = df.fillna({'numcriticforreviews': (df['numcriticforreviews'].mean())})\n",
    "df = df.fillna({'directorfacebooklikes': (df['directorfacebooklikes'].mean())})\n",
    "df = df.fillna({'actor3facebooklikes': (df['actor3facebooklikes'].median())})\n",
    "df = df.fillna({'actor1facebooklikes': (df['actor1facebooklikes'].mean())})\n",
    "df = df.fillna({'facenumberinposter': (df['facenumberinposter'].median())})\n",
    "df = df.fillna({'numuserforreviews': (df['numuserforreviews'].median())})\n",
    "df = df.fillna({'actor2facebooklikes': (df['actor2facebooklikes'].median())})\n",
    "df[\"color\"].fillna(\"Color\", inplace = True) \n",
    "df[\"language\"].fillna(\"English\", inplace = True) \n",
    "df[\"country\"].fillna(\"USA\", inplace = True) \n",
    "df[\"contentrating\"].fillna(\"R\", inplace = True) \n",
    "df[\"directorname\"].fillna(\"No Data\", inplace = True) \n",
    "df[\"actor2name\"].fillna(\"No Data\", inplace = True) \n",
    "df[\"actor1name\"].fillna(\"No Data\", inplace = True) \n",
    "df[\"actor3name\"].fillna(\"No Data\", inplace = True) \n",
    "df[\"plotkeywords\"].fillna(\"No Data\", inplace = True) \n",
    "df=df.dropna()"
   ]
  },
  {
   "cell_type": "code",
   "execution_count": 542,
   "metadata": {},
   "outputs": [
    {
     "data": {
      "text/plain": [
       "color                     0\n",
       "directorname              0\n",
       "numcriticforreviews       0\n",
       "duration                  0\n",
       "directorfacebooklikes     0\n",
       "actor3facebooklikes       0\n",
       "actor2name                0\n",
       "actor1facebooklikes       0\n",
       "gross                     0\n",
       "genres                    0\n",
       "actor1name                0\n",
       "movietitle                0\n",
       "numvotedusers             0\n",
       "casttotalfacebooklikes    0\n",
       "actor3name                0\n",
       "facenumberinposter        0\n",
       "plotkeywords              0\n",
       "movieimdblink             0\n",
       "numuserforreviews         0\n",
       "language                  0\n",
       "country                   0\n",
       "contentrating             0\n",
       "budget                    0\n",
       "titleyear                 0\n",
       "actor2facebooklikes       0\n",
       "imdbscore                 0\n",
       "aspectratio               0\n",
       "moviefacebooklikes        0\n",
       "dtype: int64"
      ]
     },
     "execution_count": 542,
     "metadata": {},
     "output_type": "execute_result"
    }
   ],
   "source": [
    "df.isnull().sum()"
   ]
  },
  {
   "cell_type": "markdown",
   "metadata": {},
   "source": [
    "### Data Transforming\n",
    "All of the genres a movie is classified as in stacked in the same column and seperate with a \"|\". We will fix this problem below. "
   ]
  },
  {
   "cell_type": "code",
   "execution_count": 543,
   "metadata": {},
   "outputs": [
    {
     "data": {
      "text/html": [
       "<div>\n",
       "<style scoped>\n",
       "    .dataframe tbody tr th:only-of-type {\n",
       "        vertical-align: middle;\n",
       "    }\n",
       "\n",
       "    .dataframe tbody tr th {\n",
       "        vertical-align: top;\n",
       "    }\n",
       "\n",
       "    .dataframe thead th {\n",
       "        text-align: right;\n",
       "    }\n",
       "</style>\n",
       "<table border=\"1\" class=\"dataframe\">\n",
       "  <thead>\n",
       "    <tr style=\"text-align: right;\">\n",
       "      <th></th>\n",
       "      <th>genres</th>\n",
       "      <th>imdbscore</th>\n",
       "    </tr>\n",
       "  </thead>\n",
       "  <tbody>\n",
       "    <tr>\n",
       "      <th>0</th>\n",
       "      <td>Action|Adventure|Fantasy|Sci-Fi</td>\n",
       "      <td>7.9</td>\n",
       "    </tr>\n",
       "    <tr>\n",
       "      <th>1</th>\n",
       "      <td>Action|Adventure|Fantasy</td>\n",
       "      <td>7.1</td>\n",
       "    </tr>\n",
       "    <tr>\n",
       "      <th>2</th>\n",
       "      <td>Action|Adventure|Thriller</td>\n",
       "      <td>6.8</td>\n",
       "    </tr>\n",
       "    <tr>\n",
       "      <th>3</th>\n",
       "      <td>Action|Thriller</td>\n",
       "      <td>8.5</td>\n",
       "    </tr>\n",
       "    <tr>\n",
       "      <th>5</th>\n",
       "      <td>Action|Adventure|Sci-Fi</td>\n",
       "      <td>6.6</td>\n",
       "    </tr>\n",
       "  </tbody>\n",
       "</table>\n",
       "</div>"
      ],
      "text/plain": [
       "                            genres  imdbscore\n",
       "0  Action|Adventure|Fantasy|Sci-Fi        7.9\n",
       "1         Action|Adventure|Fantasy        7.1\n",
       "2        Action|Adventure|Thriller        6.8\n",
       "3                  Action|Thriller        8.5\n",
       "5          Action|Adventure|Sci-Fi        6.6"
      ]
     },
     "execution_count": 543,
     "metadata": {},
     "output_type": "execute_result"
    }
   ],
   "source": [
    "g = df[['genres','imdbscore']]\n",
    "g.head()"
   ]
  },
  {
   "cell_type": "code",
   "execution_count": 544,
   "metadata": {},
   "outputs": [
    {
     "data": {
      "text/html": [
       "<div>\n",
       "<style scoped>\n",
       "    .dataframe tbody tr th:only-of-type {\n",
       "        vertical-align: middle;\n",
       "    }\n",
       "\n",
       "    .dataframe tbody tr th {\n",
       "        vertical-align: top;\n",
       "    }\n",
       "\n",
       "    .dataframe thead th {\n",
       "        text-align: right;\n",
       "    }\n",
       "</style>\n",
       "<table border=\"1\" class=\"dataframe\">\n",
       "  <thead>\n",
       "    <tr style=\"text-align: right;\">\n",
       "      <th></th>\n",
       "      <th>0</th>\n",
       "      <th>imdbscore</th>\n",
       "    </tr>\n",
       "  </thead>\n",
       "  <tbody>\n",
       "    <tr>\n",
       "      <th>0</th>\n",
       "      <td>Action</td>\n",
       "      <td>7.9</td>\n",
       "    </tr>\n",
       "    <tr>\n",
       "      <th>1</th>\n",
       "      <td>Adventure</td>\n",
       "      <td>7.9</td>\n",
       "    </tr>\n",
       "    <tr>\n",
       "      <th>2</th>\n",
       "      <td>Fantasy</td>\n",
       "      <td>7.9</td>\n",
       "    </tr>\n",
       "    <tr>\n",
       "      <th>3</th>\n",
       "      <td>Sci-Fi</td>\n",
       "      <td>7.9</td>\n",
       "    </tr>\n",
       "    <tr>\n",
       "      <th>4</th>\n",
       "      <td>Action</td>\n",
       "      <td>7.1</td>\n",
       "    </tr>\n",
       "  </tbody>\n",
       "</table>\n",
       "</div>"
      ],
      "text/plain": [
       "           0  imdbscore\n",
       "0     Action        7.9\n",
       "1  Adventure        7.9\n",
       "2    Fantasy        7.9\n",
       "3     Sci-Fi        7.9\n",
       "4     Action        7.1"
      ]
     },
     "execution_count": 544,
     "metadata": {},
     "output_type": "execute_result"
    }
   ],
   "source": [
    "b = pd.DataFrame(g.genres.str.split('|').tolist(), index=g.imdbscore).stack()\n",
    "b = b.reset_index()[[0, 'imdbscore']] \n",
    "b.head()"
   ]
  },
  {
   "cell_type": "code",
   "execution_count": 545,
   "metadata": {},
   "outputs": [
    {
     "data": {
      "text/html": [
       "<div>\n",
       "<style scoped>\n",
       "    .dataframe tbody tr th:only-of-type {\n",
       "        vertical-align: middle;\n",
       "    }\n",
       "\n",
       "    .dataframe tbody tr th {\n",
       "        vertical-align: top;\n",
       "    }\n",
       "\n",
       "    .dataframe thead th {\n",
       "        text-align: right;\n",
       "    }\n",
       "</style>\n",
       "<table border=\"1\" class=\"dataframe\">\n",
       "  <thead>\n",
       "    <tr style=\"text-align: right;\">\n",
       "      <th></th>\n",
       "      <th>plotkeywords</th>\n",
       "      <th>imdbscore</th>\n",
       "    </tr>\n",
       "  </thead>\n",
       "  <tbody>\n",
       "    <tr>\n",
       "      <th>0</th>\n",
       "      <td>avatar|future|marine|native|paraplegic</td>\n",
       "      <td>7.9</td>\n",
       "    </tr>\n",
       "    <tr>\n",
       "      <th>1</th>\n",
       "      <td>goddess|marriage ceremony|marriage proposal|pi...</td>\n",
       "      <td>7.1</td>\n",
       "    </tr>\n",
       "    <tr>\n",
       "      <th>2</th>\n",
       "      <td>bomb|espionage|sequel|spy|terrorist</td>\n",
       "      <td>6.8</td>\n",
       "    </tr>\n",
       "    <tr>\n",
       "      <th>3</th>\n",
       "      <td>deception|imprisonment|lawlessness|police offi...</td>\n",
       "      <td>8.5</td>\n",
       "    </tr>\n",
       "    <tr>\n",
       "      <th>5</th>\n",
       "      <td>alien|american civil war|male nipple|mars|prin...</td>\n",
       "      <td>6.6</td>\n",
       "    </tr>\n",
       "  </tbody>\n",
       "</table>\n",
       "</div>"
      ],
      "text/plain": [
       "                                        plotkeywords  imdbscore\n",
       "0             avatar|future|marine|native|paraplegic        7.9\n",
       "1  goddess|marriage ceremony|marriage proposal|pi...        7.1\n",
       "2                bomb|espionage|sequel|spy|terrorist        6.8\n",
       "3  deception|imprisonment|lawlessness|police offi...        8.5\n",
       "5  alien|american civil war|male nipple|mars|prin...        6.6"
      ]
     },
     "execution_count": 545,
     "metadata": {},
     "output_type": "execute_result"
    }
   ],
   "source": [
    "k = df[['plotkeywords','imdbscore']]\n",
    "k.head()"
   ]
  },
  {
   "cell_type": "code",
   "execution_count": 546,
   "metadata": {},
   "outputs": [
    {
     "data": {
      "text/html": [
       "<div>\n",
       "<style scoped>\n",
       "    .dataframe tbody tr th:only-of-type {\n",
       "        vertical-align: middle;\n",
       "    }\n",
       "\n",
       "    .dataframe tbody tr th {\n",
       "        vertical-align: top;\n",
       "    }\n",
       "\n",
       "    .dataframe thead th {\n",
       "        text-align: right;\n",
       "    }\n",
       "</style>\n",
       "<table border=\"1\" class=\"dataframe\">\n",
       "  <thead>\n",
       "    <tr style=\"text-align: right;\">\n",
       "      <th></th>\n",
       "      <th>0</th>\n",
       "      <th>imdbscore</th>\n",
       "    </tr>\n",
       "  </thead>\n",
       "  <tbody>\n",
       "    <tr>\n",
       "      <th>0</th>\n",
       "      <td>avatar</td>\n",
       "      <td>7.9</td>\n",
       "    </tr>\n",
       "    <tr>\n",
       "      <th>1</th>\n",
       "      <td>future</td>\n",
       "      <td>7.9</td>\n",
       "    </tr>\n",
       "    <tr>\n",
       "      <th>2</th>\n",
       "      <td>marine</td>\n",
       "      <td>7.9</td>\n",
       "    </tr>\n",
       "    <tr>\n",
       "      <th>3</th>\n",
       "      <td>native</td>\n",
       "      <td>7.9</td>\n",
       "    </tr>\n",
       "    <tr>\n",
       "      <th>4</th>\n",
       "      <td>paraplegic</td>\n",
       "      <td>7.9</td>\n",
       "    </tr>\n",
       "  </tbody>\n",
       "</table>\n",
       "</div>"
      ],
      "text/plain": [
       "            0  imdbscore\n",
       "0      avatar        7.9\n",
       "1      future        7.9\n",
       "2      marine        7.9\n",
       "3      native        7.9\n",
       "4  paraplegic        7.9"
      ]
     },
     "execution_count": 546,
     "metadata": {},
     "output_type": "execute_result"
    }
   ],
   "source": [
    "p = pd.DataFrame(k.plotkeywords.str.split('|').tolist(), index=k.imdbscore).stack()\n",
    "p = p.reset_index()[[0, 'imdbscore']] \n",
    "p.head()"
   ]
  },
  {
   "cell_type": "markdown",
   "metadata": {},
   "source": [
    "Since each movie has an undetermined amount of genres and plot keywords, trying to join these datasets to the larger main df dataset will create problems with missing data and inconsistency. We will thus evaluate these smaller datasets individually. "
   ]
  },
  {
   "cell_type": "markdown",
   "metadata": {},
   "source": [
    "# Data Visualization and Business Intelligence\n",
    "Now we will look at some data visualization tools to give us a better idea of the data we are working with."
   ]
  },
  {
   "cell_type": "markdown",
   "metadata": {},
   "source": [
    "## Numerical values\n",
    "### Correlation\n",
    "We will look at correlation first in order to determine which x values are most worth looking into. "
   ]
  },
  {
   "cell_type": "code",
   "execution_count": 547,
   "metadata": {},
   "outputs": [
    {
     "data": {
      "image/png": "[encoded data removed]",
      "text/plain": [
       "<Figure size 1008x720 with 2 Axes>"
      ]
     },
     "metadata": {
      "needs_background": "light"
     },
     "output_type": "display_data"
    }
   ],
   "source": [
    "plt.figure(figsize=(14,10))\n",
    "sns.heatmap(df.corr(), vmax=.8, square=True, annot=True, fmt=\".1f\", cmap=\"Purples\"); "
   ]
  },
  {
   "cell_type": "markdown",
   "metadata": {},
   "source": [
    "The following variables have correlation factors of equal to or greater than 0.3:\n",
    "   * numvotedusers\n",
    "   * duration\n",
    "   * numcriticforreviews\n",
    "   * numusersforreviews\n",
    "   * movie facebook likes\n",
    "   \n",
    "We will look into these individual float values throughout the entirety of the project. There are no variables with negatively significant correlation factors. "
   ]
  },
  {
   "cell_type": "markdown",
   "metadata": {},
   "source": [
    "### Visualization\n",
    "The two highest correlated x values are shown below. "
   ]
  },
  {
   "cell_type": "code",
   "execution_count": 548,
   "metadata": {},
   "outputs": [
    {
     "data": {
      "image/png": "[encoded data removed]",
      "text/plain": [
       "<Figure size 360x360 with 1 Axes>"
      ]
     },
     "metadata": {
      "needs_background": "light"
     },
     "output_type": "display_data"
    }
   ],
   "source": [
    "sns.catplot(\"imdbscore\", \"numvotedusers\", data=df, kind='bar');"
   ]
  },
  {
   "cell_type": "markdown",
   "metadata": {},
   "source": [
    "There seems to be a very clear positive correlation between num voted users and IMDB score. We will test the significance of this hypothesis in further sections. "
   ]
  },
  {
   "cell_type": "code",
   "execution_count": 549,
   "metadata": {},
   "outputs": [
    {
     "data": {
      "image/png": "[encoded data removed]",
      "text/plain": [
       "<Figure size 360x360 with 1 Axes>"
      ]
     },
     "metadata": {
      "needs_background": "light"
     },
     "output_type": "display_data"
    }
   ],
   "source": [
    "sns.lmplot(\"imdbscore\", \"duration\", data=df, fit_reg=True);"
   ]
  },
  {
   "cell_type": "markdown",
   "metadata": {},
   "source": [
    "There is a slight upward slope of this line, implying that there may be a significant positive correlation between duration and IMDB score. "
   ]
  },
  {
   "cell_type": "markdown",
   "metadata": {},
   "source": [
    "## Categorical Values\n",
    "In this section we will explore the \"color\" data and \"content rating\" columns, as there are a finite limits of options to select form this list. Each category can be separated and compared individually. \n",
    "### Data Visualization\n"
   ]
  },
  {
   "cell_type": "code",
   "execution_count": 550,
   "metadata": {},
   "outputs": [
    {
     "data": {
      "text/plain": [
       "<matplotlib.axes._subplots.AxesSubplot at 0x1c33c748940>"
      ]
     },
     "execution_count": 550,
     "metadata": {},
     "output_type": "execute_result"
    },
    {
     "data": {
      "image/png": "[encoded data removed]",
      "text/plain": [
       "<Figure size 432x288 with 1 Axes>"
      ]
     },
     "metadata": {
      "needs_background": "light"
     },
     "output_type": "display_data"
    }
   ],
   "source": [
    "sns.violinplot(\"color\", \"imdbscore\", data=df,\n",
    "               palette=[\"purple\", \"pink\"])"
   ]
  },
  {
   "cell_type": "markdown",
   "metadata": {},
   "source": [
    "The only noticible difference between color and black and white movie is that color movies have a much wider range of previous IMDB scores. It is difficult to tell, though, if one is preferred to the other by the IMDB rating system. "
   ]
  },
  {
   "cell_type": "code",
   "execution_count": 551,
   "metadata": {},
   "outputs": [
    {
     "data": {
      "text/plain": [
       "<matplotlib.axes._subplots.AxesSubplot at 0x1c33c6ac550>"
      ]
     },
     "execution_count": 551,
     "metadata": {},
     "output_type": "execute_result"
    },
    {
     "data": {
      "image/png": "[encoded data removed]",
      "text/plain": [
       "<Figure size 864x864 with 1 Axes>"
      ]
     },
     "metadata": {
      "needs_background": "light"
     },
     "output_type": "display_data"
    }
   ],
   "source": [
    "df.boxplot('imdbscore', by='contentrating', figsize=(12, 12))"
   ]
  },
  {
   "cell_type": "markdown",
   "metadata": {},
   "source": [
    "The content rating categories with the highest score in this graph are \"M\" and \"Approved.\" We cannot tell from this graph if the different scores produced by different content ratings are signifcant or not. "
   ]
  },
  {
   "cell_type": "markdown",
   "metadata": {},
   "source": [
    "# Float Values \n",
    "In this simple section we will explore who the most successful actors and directors are in terms of imdb scores.\n",
    "   * language \n",
    "   * country\n",
    "   * genres\n",
    "   * directorname\n",
    "   * actor names (1,2,3)\n",
    "   * movietitle\n",
    "   * plotkeywords\n",
    "## Data Visualization"
   ]
  },
  {
   "cell_type": "markdown",
   "metadata": {},
   "source": [
    "#### Language\n",
    "The highest imdb scores were generated by the movies that did not have a language listed in the dataset. Excluding those movies, the best languages in terms of imdb scores are:\n",
    "   1. Telugu\n",
    "   2. Persian\n",
    "   3. Danish\n",
    "   4. Romanian\n",
    "   5. Indonesian"
   ]
  },
  {
   "cell_type": "code",
   "execution_count": 552,
   "metadata": {},
   "outputs": [
    {
     "data": {
      "text/plain": [
       "<matplotlib.axes._subplots.AxesSubplot at 0x1c33de22828>"
      ]
     },
     "execution_count": 552,
     "metadata": {},
     "output_type": "execute_result"
    },
    {
     "data": {
      "image/png": "[encoded data removed]",
      "text/plain": [
       "<Figure size 864x432 with 1 Axes>"
      ]
     },
     "metadata": {
      "needs_background": "light"
     },
     "output_type": "display_data"
    }
   ],
   "source": [
    "df.groupby('language')['imdbscore'].mean().sort_values(ascending=False).plot(kind=('bar'), figsize = (12,6))"
   ]
  },
  {
   "cell_type": "markdown",
   "metadata": {},
   "source": [
    "#### Country\n",
    "The top five countries in terms of imdb scores are:\n",
    "   1. West Germany\n",
    "   2. Brazil\n",
    "   3. Iran\n",
    "   4. Argentina\n",
    "   5. Sweden"
   ]
  },
  {
   "cell_type": "code",
   "execution_count": 553,
   "metadata": {},
   "outputs": [
    {
     "data": {
      "text/plain": [
       "country\n",
       "West Germany    8.400000\n",
       "Brazil          7.760000\n",
       "Iran            7.725000\n",
       "Argentina       7.600000\n",
       "Sweden          7.600000\n",
       "Indonesia       7.600000\n",
       "Netherlands     7.566667\n",
       "Colombia        7.500000\n",
       "Israel          7.500000\n",
       "New Zealand     7.481818\n",
       "South Africa    7.433333\n",
       "Afghanistan     7.400000\n",
       "Italy           7.345455\n",
       "Denmark         7.233333\n",
       "Finland         7.200000\n",
       "Norway          7.150000\n",
       "Name: imdbscore, dtype: float64"
      ]
     },
     "execution_count": 553,
     "metadata": {},
     "output_type": "execute_result"
    }
   ],
   "source": [
    "df.groupby('country')['imdbscore'].mean().sort_values(ascending=False).head(16)"
   ]
  },
  {
   "cell_type": "markdown",
   "metadata": {},
   "source": [
    "#### Genres\n",
    "The top 5 genres in terms of imdb scoers are \n",
    "   1. Film-Noir\n",
    "   2. Biography\n",
    "   3. History\n",
    "   4. War\n",
    "   5. Documentary"
   ]
  },
  {
   "cell_type": "code",
   "execution_count": 554,
   "metadata": {},
   "outputs": [
    {
     "data": {
      "text/plain": [
       "<matplotlib.axes._subplots.AxesSubplot at 0x1c33dbbe4e0>"
      ]
     },
     "execution_count": 554,
     "metadata": {},
     "output_type": "execute_result"
    },
    {
     "data": {
      "image/png": "[encoded data removed]",
      "text/plain": [
       "<Figure size 864x432 with 1 Axes>"
      ]
     },
     "metadata": {
      "needs_background": "light"
     },
     "output_type": "display_data"
    }
   ],
   "source": [
    "b.groupby(0)['imdbscore'].mean().sort_values(ascending=True).plot(kind=('barh'), figsize = (12,6))"
   ]
  },
  {
   "cell_type": "markdown",
   "metadata": {},
   "source": [
    "#### Directorname\n",
    "The top five directors in terms of imdb scores are:\n",
    "   1. Aki Kaurismaki\n",
    "   2. Adrienne Shelby\n",
    "   3. Aaron Schneider\n",
    "   4. Adam McKay\n",
    "   5. Agnieszka Holland"
   ]
  },
  {
   "cell_type": "code",
   "execution_count": 555,
   "metadata": {},
   "outputs": [
    {
     "data": {
      "text/plain": [
       "<matplotlib.axes._subplots.AxesSubplot at 0x1c33dc5c400>"
      ]
     },
     "execution_count": 555,
     "metadata": {},
     "output_type": "execute_result"
    },
    {
     "data": {
      "image/png": "[encoded data removed]",
      "text/plain": [
       "<Figure size 864x432 with 1 Axes>"
      ]
     },
     "metadata": {
      "needs_background": "light"
     },
     "output_type": "display_data"
    }
   ],
   "source": [
    "df.groupby('directorname')['imdbscore'].mean().head(15).sort_values(ascending=False).plot(kind=('bar'), figsize = (12,6))"
   ]
  },
  {
   "cell_type": "markdown",
   "metadata": {},
   "source": [
    "#### Actornames\n",
    "The following tables are the top five actors in the three categories:"
   ]
  },
  {
   "cell_type": "markdown",
   "metadata": {},
   "source": [
    "*Actor1*"
   ]
  },
  {
   "cell_type": "code",
   "execution_count": 556,
   "metadata": {},
   "outputs": [
    {
     "data": {
      "text/plain": [
       "actor1name\n",
       "Abbie Cornish        7.066667\n",
       "Aasif Mandvi         6.700000\n",
       "Aaliyah              5.200000\n",
       "50 Cent              5.000000\n",
       "Abhishek Bachchan    3.300000\n",
       "Name: imdbscore, dtype: float64"
      ]
     },
     "execution_count": 556,
     "metadata": {},
     "output_type": "execute_result"
    }
   ],
   "source": [
    "df.groupby('actor1name')['imdbscore'].mean().head(5).sort_values(ascending=False)"
   ]
  },
  {
   "cell_type": "markdown",
   "metadata": {},
   "source": [
    "*Actor2*"
   ]
  },
  {
   "cell_type": "code",
   "execution_count": 557,
   "metadata": {},
   "outputs": [
    {
     "data": {
      "text/plain": [
       "actor2name\n",
       "50 Cent               7.100000\n",
       "AJ Michalka           6.833333\n",
       "Aaron Hughes          6.500000\n",
       "A. Michael Baldwin    6.500000\n",
       "Aaron Stanford        6.300000\n",
       "Name: imdbscore, dtype: float64"
      ]
     },
     "execution_count": 557,
     "metadata": {},
     "output_type": "execute_result"
    }
   ],
   "source": [
    "df.groupby('actor2name')['imdbscore'].mean().head(5).sort_values(ascending=False)"
   ]
  },
  {
   "cell_type": "markdown",
   "metadata": {},
   "source": [
    "*Actor3*"
   ]
  },
  {
   "cell_type": "code",
   "execution_count": 558,
   "metadata": {},
   "outputs": [
    {
     "data": {
      "text/plain": [
       "actor3name\n",
       "Aaron Stanford    7.600000\n",
       "Aaliyah           6.100000\n",
       "50 Cent           6.000000\n",
       "A.J. Buckley      5.733333\n",
       "A.J. Langer       3.900000\n",
       "Name: imdbscore, dtype: float64"
      ]
     },
     "execution_count": 558,
     "metadata": {},
     "output_type": "execute_result"
    }
   ],
   "source": [
    "df.groupby('actor3name')['imdbscore'].mean().head(5).sort_values(ascending=False)"
   ]
  },
  {
   "cell_type": "markdown",
   "metadata": {},
   "source": [
    "#### Movietitle\n",
    "The top 5 movies in terms of imbd scores are:\n",
    "   1. 12 Years a Slave\n",
    "   2. 127 Hours\n",
    "   3. 10 Days in a Madhouse\n",
    "   4. 13 Hours\n",
    "   5. 10 Cloverfield Lane"
   ]
  },
  {
   "cell_type": "code",
   "execution_count": 559,
   "metadata": {},
   "outputs": [
    {
     "data": {
      "text/plain": [
       "<matplotlib.axes._subplots.AxesSubplot at 0x1c33dcfb978>"
      ]
     },
     "execution_count": 559,
     "metadata": {},
     "output_type": "execute_result"
    },
    {
     "data": {
      "image/png": "[encoded data removed]",
      "text/plain": [
       "<Figure size 864x576 with 1 Axes>"
      ]
     },
     "metadata": {
      "needs_background": "light"
     },
     "output_type": "display_data"
    }
   ],
   "source": [
    "df.groupby('movietitle')['imdbscore'].max().head(15).sort_values(ascending=False).plot(kind= \"bar\", figsize= (12,8))"
   ]
  },
  {
   "cell_type": "markdown",
   "metadata": {},
   "source": [
    "#### PlotKeyword\n",
    "The most popular plotkeywords in terms of imbd scores are:\n",
    "    1. 14th century\n",
    "    2. 12 year time span\n",
    "    3. 14 year old\n",
    "    4. 12th century\n",
    "    5. 15th birthday"
   ]
  },
  {
   "cell_type": "code",
   "execution_count": 560,
   "metadata": {},
   "outputs": [
    {
     "data": {
      "text/plain": [
       "<matplotlib.axes._subplots.AxesSubplot at 0x1c33e479e80>"
      ]
     },
     "execution_count": 560,
     "metadata": {},
     "output_type": "execute_result"
    },
    {
     "data": {
      "image/png": "[encoded data removed]",
      "text/plain": [
       "<Figure size 864x576 with 1 Axes>"
      ]
     },
     "metadata": {
      "needs_background": "light"
     },
     "output_type": "display_data"
    }
   ],
   "source": [
    "p.groupby(0)['imdbscore'].max().head(15).sort_values(ascending=False).plot(kind= \"barh\", figsize= (12,8))"
   ]
  },
  {
   "cell_type": "markdown",
   "metadata": {},
   "source": [
    "# Exploratory Data Analysis\n",
    "## Correlation Analysis\n",
    "As already touched on above, the correlation analysis is important for determining which values we should look further into regarding thier effect on IMDB score."
   ]
  },
  {
   "cell_type": "code",
   "execution_count": 561,
   "metadata": {},
   "outputs": [
    {
     "data": {
      "text/html": [
       "<div>\n",
       "<style scoped>\n",
       "    .dataframe tbody tr th:only-of-type {\n",
       "        vertical-align: middle;\n",
       "    }\n",
       "\n",
       "    .dataframe tbody tr th {\n",
       "        vertical-align: top;\n",
       "    }\n",
       "\n",
       "    .dataframe thead th {\n",
       "        text-align: right;\n",
       "    }\n",
       "</style>\n",
       "<table border=\"1\" class=\"dataframe\">\n",
       "  <thead>\n",
       "    <tr style=\"text-align: right;\">\n",
       "      <th></th>\n",
       "      <th>numcriticforreviews</th>\n",
       "      <th>duration</th>\n",
       "      <th>directorfacebooklikes</th>\n",
       "      <th>actor3facebooklikes</th>\n",
       "      <th>actor1facebooklikes</th>\n",
       "      <th>gross</th>\n",
       "      <th>numvotedusers</th>\n",
       "      <th>casttotalfacebooklikes</th>\n",
       "      <th>facenumberinposter</th>\n",
       "      <th>numuserforreviews</th>\n",
       "      <th>budget</th>\n",
       "      <th>titleyear</th>\n",
       "      <th>actor2facebooklikes</th>\n",
       "      <th>imdbscore</th>\n",
       "      <th>aspectratio</th>\n",
       "      <th>moviefacebooklikes</th>\n",
       "    </tr>\n",
       "  </thead>\n",
       "  <tbody>\n",
       "    <tr>\n",
       "      <th>numcriticforreviews</th>\n",
       "      <td>1.000000</td>\n",
       "      <td>0.239339</td>\n",
       "      <td>0.179262</td>\n",
       "      <td>0.256930</td>\n",
       "      <td>0.172198</td>\n",
       "      <td>0.477022</td>\n",
       "      <td>0.600467</td>\n",
       "      <td>0.244007</td>\n",
       "      <td>-0.033993</td>\n",
       "      <td>0.573599</td>\n",
       "      <td>0.107675</td>\n",
       "      <td>0.392394</td>\n",
       "      <td>0.258964</td>\n",
       "      <td>0.340227</td>\n",
       "      <td>0.164919</td>\n",
       "      <td>0.703414</td>\n",
       "    </tr>\n",
       "    <tr>\n",
       "      <th>duration</th>\n",
       "      <td>0.239339</td>\n",
       "      <td>1.000000</td>\n",
       "      <td>0.180814</td>\n",
       "      <td>0.127904</td>\n",
       "      <td>0.087232</td>\n",
       "      <td>0.252818</td>\n",
       "      <td>0.344179</td>\n",
       "      <td>0.124516</td>\n",
       "      <td>0.032083</td>\n",
       "      <td>0.356247</td>\n",
       "      <td>0.069564</td>\n",
       "      <td>-0.128210</td>\n",
       "      <td>0.132067</td>\n",
       "      <td>0.358273</td>\n",
       "      <td>0.144818</td>\n",
       "      <td>0.221743</td>\n",
       "    </tr>\n",
       "    <tr>\n",
       "      <th>directorfacebooklikes</th>\n",
       "      <td>0.179262</td>\n",
       "      <td>0.180814</td>\n",
       "      <td>1.000000</td>\n",
       "      <td>0.119515</td>\n",
       "      <td>0.091600</td>\n",
       "      <td>0.142158</td>\n",
       "      <td>0.301847</td>\n",
       "      <td>0.121031</td>\n",
       "      <td>-0.047136</td>\n",
       "      <td>0.220459</td>\n",
       "      <td>0.019235</td>\n",
       "      <td>-0.045781</td>\n",
       "      <td>0.118443</td>\n",
       "      <td>0.189293</td>\n",
       "      <td>0.034724</td>\n",
       "      <td>0.162555</td>\n",
       "    </tr>\n",
       "    <tr>\n",
       "      <th>actor3facebooklikes</th>\n",
       "      <td>0.256930</td>\n",
       "      <td>0.127904</td>\n",
       "      <td>0.119515</td>\n",
       "      <td>1.000000</td>\n",
       "      <td>0.253965</td>\n",
       "      <td>0.303198</td>\n",
       "      <td>0.271351</td>\n",
       "      <td>0.490296</td>\n",
       "      <td>0.104594</td>\n",
       "      <td>0.209947</td>\n",
       "      <td>0.041278</td>\n",
       "      <td>0.111770</td>\n",
       "      <td>0.554644</td>\n",
       "      <td>0.064588</td>\n",
       "      <td>0.043633</td>\n",
       "      <td>0.272033</td>\n",
       "    </tr>\n",
       "    <tr>\n",
       "      <th>actor1facebooklikes</th>\n",
       "      <td>0.172198</td>\n",
       "      <td>0.087232</td>\n",
       "      <td>0.091600</td>\n",
       "      <td>0.253965</td>\n",
       "      <td>1.000000</td>\n",
       "      <td>0.148887</td>\n",
       "      <td>0.183601</td>\n",
       "      <td>0.945127</td>\n",
       "      <td>0.064688</td>\n",
       "      <td>0.127472</td>\n",
       "      <td>0.017554</td>\n",
       "      <td>0.091258</td>\n",
       "      <td>0.392102</td>\n",
       "      <td>0.091885</td>\n",
       "      <td>0.054683</td>\n",
       "      <td>0.131601</td>\n",
       "    </tr>\n",
       "    <tr>\n",
       "      <th>gross</th>\n",
       "      <td>0.477022</td>\n",
       "      <td>0.252818</td>\n",
       "      <td>0.142158</td>\n",
       "      <td>0.303198</td>\n",
       "      <td>0.148887</td>\n",
       "      <td>1.000000</td>\n",
       "      <td>0.631404</td>\n",
       "      <td>0.240982</td>\n",
       "      <td>-0.030783</td>\n",
       "      <td>0.552499</td>\n",
       "      <td>0.102179</td>\n",
       "      <td>0.046575</td>\n",
       "      <td>0.256761</td>\n",
       "      <td>0.211525</td>\n",
       "      <td>0.056805</td>\n",
       "      <td>0.375455</td>\n",
       "    </tr>\n",
       "    <tr>\n",
       "      <th>numvotedusers</th>\n",
       "      <td>0.600467</td>\n",
       "      <td>0.344179</td>\n",
       "      <td>0.301847</td>\n",
       "      <td>0.271351</td>\n",
       "      <td>0.183601</td>\n",
       "      <td>0.631404</td>\n",
       "      <td>1.000000</td>\n",
       "      <td>0.254050</td>\n",
       "      <td>-0.031955</td>\n",
       "      <td>0.782493</td>\n",
       "      <td>0.068834</td>\n",
       "      <td>0.016773</td>\n",
       "      <td>0.249130</td>\n",
       "      <td>0.473209</td>\n",
       "      <td>0.077138</td>\n",
       "      <td>0.522649</td>\n",
       "    </tr>\n",
       "    <tr>\n",
       "      <th>casttotalfacebooklikes</th>\n",
       "      <td>0.244007</td>\n",
       "      <td>0.124516</td>\n",
       "      <td>0.121031</td>\n",
       "      <td>0.490296</td>\n",
       "      <td>0.945127</td>\n",
       "      <td>0.240982</td>\n",
       "      <td>0.254050</td>\n",
       "      <td>1.000000</td>\n",
       "      <td>0.087023</td>\n",
       "      <td>0.185527</td>\n",
       "      <td>0.030189</td>\n",
       "      <td>0.120310</td>\n",
       "      <td>0.643007</td>\n",
       "      <td>0.104546</td>\n",
       "      <td>0.065698</td>\n",
       "      <td>0.206783</td>\n",
       "    </tr>\n",
       "    <tr>\n",
       "      <th>facenumberinposter</th>\n",
       "      <td>-0.033993</td>\n",
       "      <td>0.032083</td>\n",
       "      <td>-0.047136</td>\n",
       "      <td>0.104594</td>\n",
       "      <td>0.064688</td>\n",
       "      <td>-0.030783</td>\n",
       "      <td>-0.031955</td>\n",
       "      <td>0.087023</td>\n",
       "      <td>1.000000</td>\n",
       "      <td>-0.078637</td>\n",
       "      <td>-0.021984</td>\n",
       "      <td>0.069919</td>\n",
       "      <td>0.073309</td>\n",
       "      <td>-0.067870</td>\n",
       "      <td>0.017589</td>\n",
       "      <td>0.015260</td>\n",
       "    </tr>\n",
       "    <tr>\n",
       "      <th>numuserforreviews</th>\n",
       "      <td>0.573599</td>\n",
       "      <td>0.356247</td>\n",
       "      <td>0.220459</td>\n",
       "      <td>0.209947</td>\n",
       "      <td>0.127472</td>\n",
       "      <td>0.552499</td>\n",
       "      <td>0.782493</td>\n",
       "      <td>0.185527</td>\n",
       "      <td>-0.078637</td>\n",
       "      <td>1.000000</td>\n",
       "      <td>0.073352</td>\n",
       "      <td>0.011868</td>\n",
       "      <td>0.192924</td>\n",
       "      <td>0.320005</td>\n",
       "      <td>0.089032</td>\n",
       "      <td>0.376885</td>\n",
       "    </tr>\n",
       "    <tr>\n",
       "      <th>budget</th>\n",
       "      <td>0.107675</td>\n",
       "      <td>0.069564</td>\n",
       "      <td>0.019235</td>\n",
       "      <td>0.041278</td>\n",
       "      <td>0.017554</td>\n",
       "      <td>0.102179</td>\n",
       "      <td>0.068834</td>\n",
       "      <td>0.030189</td>\n",
       "      <td>-0.021984</td>\n",
       "      <td>0.073352</td>\n",
       "      <td>1.000000</td>\n",
       "      <td>0.044990</td>\n",
       "      <td>0.037010</td>\n",
       "      <td>0.029135</td>\n",
       "      <td>0.024134</td>\n",
       "      <td>0.054696</td>\n",
       "    </tr>\n",
       "    <tr>\n",
       "      <th>titleyear</th>\n",
       "      <td>0.392394</td>\n",
       "      <td>-0.128210</td>\n",
       "      <td>-0.045781</td>\n",
       "      <td>0.111770</td>\n",
       "      <td>0.091258</td>\n",
       "      <td>0.046575</td>\n",
       "      <td>0.016773</td>\n",
       "      <td>0.120310</td>\n",
       "      <td>0.069919</td>\n",
       "      <td>0.011868</td>\n",
       "      <td>0.044990</td>\n",
       "      <td>1.000000</td>\n",
       "      <td>0.115627</td>\n",
       "      <td>-0.130236</td>\n",
       "      <td>0.225994</td>\n",
       "      <td>0.295541</td>\n",
       "    </tr>\n",
       "    <tr>\n",
       "      <th>actor2facebooklikes</th>\n",
       "      <td>0.258964</td>\n",
       "      <td>0.132067</td>\n",
       "      <td>0.118443</td>\n",
       "      <td>0.554644</td>\n",
       "      <td>0.392102</td>\n",
       "      <td>0.256761</td>\n",
       "      <td>0.249130</td>\n",
       "      <td>0.643007</td>\n",
       "      <td>0.073309</td>\n",
       "      <td>0.192924</td>\n",
       "      <td>0.037010</td>\n",
       "      <td>0.115627</td>\n",
       "      <td>1.000000</td>\n",
       "      <td>0.101485</td>\n",
       "      <td>0.060039</td>\n",
       "      <td>0.233076</td>\n",
       "    </tr>\n",
       "    <tr>\n",
       "      <th>imdbscore</th>\n",
       "      <td>0.340227</td>\n",
       "      <td>0.358273</td>\n",
       "      <td>0.189293</td>\n",
       "      <td>0.064588</td>\n",
       "      <td>0.091885</td>\n",
       "      <td>0.211525</td>\n",
       "      <td>0.473209</td>\n",
       "      <td>0.104546</td>\n",
       "      <td>-0.067870</td>\n",
       "      <td>0.320005</td>\n",
       "      <td>0.029135</td>\n",
       "      <td>-0.130236</td>\n",
       "      <td>0.101485</td>\n",
       "      <td>1.000000</td>\n",
       "      <td>0.024506</td>\n",
       "      <td>0.277349</td>\n",
       "    </tr>\n",
       "    <tr>\n",
       "      <th>aspectratio</th>\n",
       "      <td>0.164919</td>\n",
       "      <td>0.144818</td>\n",
       "      <td>0.034724</td>\n",
       "      <td>0.043633</td>\n",
       "      <td>0.054683</td>\n",
       "      <td>0.056805</td>\n",
       "      <td>0.077138</td>\n",
       "      <td>0.065698</td>\n",
       "      <td>0.017589</td>\n",
       "      <td>0.089032</td>\n",
       "      <td>0.024134</td>\n",
       "      <td>0.225994</td>\n",
       "      <td>0.060039</td>\n",
       "      <td>0.024506</td>\n",
       "      <td>1.000000</td>\n",
       "      <td>0.105743</td>\n",
       "    </tr>\n",
       "    <tr>\n",
       "      <th>moviefacebooklikes</th>\n",
       "      <td>0.703414</td>\n",
       "      <td>0.221743</td>\n",
       "      <td>0.162555</td>\n",
       "      <td>0.272033</td>\n",
       "      <td>0.131601</td>\n",
       "      <td>0.375455</td>\n",
       "      <td>0.522649</td>\n",
       "      <td>0.206783</td>\n",
       "      <td>0.015260</td>\n",
       "      <td>0.376885</td>\n",
       "      <td>0.054696</td>\n",
       "      <td>0.295541</td>\n",
       "      <td>0.233076</td>\n",
       "      <td>0.277349</td>\n",
       "      <td>0.105743</td>\n",
       "      <td>1.000000</td>\n",
       "    </tr>\n",
       "  </tbody>\n",
       "</table>\n",
       "</div>"
      ],
      "text/plain": [
       "                        numcriticforreviews  duration  directorfacebooklikes  \\\n",
       "numcriticforreviews                1.000000  0.239339               0.179262   \n",
       "duration                           0.239339  1.000000               0.180814   \n",
       "directorfacebooklikes              0.179262  0.180814               1.000000   \n",
       "actor3facebooklikes                0.256930  0.127904               0.119515   \n",
       "actor1facebooklikes                0.172198  0.087232               0.091600   \n",
       "gross                              0.477022  0.252818               0.142158   \n",
       "numvotedusers                      0.600467  0.344179               0.301847   \n",
       "casttotalfacebooklikes             0.244007  0.124516               0.121031   \n",
       "facenumberinposter                -0.033993  0.032083              -0.047136   \n",
       "numuserforreviews                  0.573599  0.356247               0.220459   \n",
       "budget                             0.107675  0.069564               0.019235   \n",
       "titleyear                          0.392394 -0.128210              -0.045781   \n",
       "actor2facebooklikes                0.258964  0.132067               0.118443   \n",
       "imdbscore                          0.340227  0.358273               0.189293   \n",
       "aspectratio                        0.164919  0.144818               0.034724   \n",
       "moviefacebooklikes                 0.703414  0.221743               0.162555   \n",
       "\n",
       "                        actor3facebooklikes  actor1facebooklikes     gross  \\\n",
       "numcriticforreviews                0.256930             0.172198  0.477022   \n",
       "duration                           0.127904             0.087232  0.252818   \n",
       "directorfacebooklikes              0.119515             0.091600  0.142158   \n",
       "actor3facebooklikes                1.000000             0.253965  0.303198   \n",
       "actor1facebooklikes                0.253965             1.000000  0.148887   \n",
       "gross                              0.303198             0.148887  1.000000   \n",
       "numvotedusers                      0.271351             0.183601  0.631404   \n",
       "casttotalfacebooklikes             0.490296             0.945127  0.240982   \n",
       "facenumberinposter                 0.104594             0.064688 -0.030783   \n",
       "numuserforreviews                  0.209947             0.127472  0.552499   \n",
       "budget                             0.041278             0.017554  0.102179   \n",
       "titleyear                          0.111770             0.091258  0.046575   \n",
       "actor2facebooklikes                0.554644             0.392102  0.256761   \n",
       "imdbscore                          0.064588             0.091885  0.211525   \n",
       "aspectratio                        0.043633             0.054683  0.056805   \n",
       "moviefacebooklikes                 0.272033             0.131601  0.375455   \n",
       "\n",
       "                        numvotedusers  casttotalfacebooklikes  \\\n",
       "numcriticforreviews          0.600467                0.244007   \n",
       "duration                     0.344179                0.124516   \n",
       "directorfacebooklikes        0.301847                0.121031   \n",
       "actor3facebooklikes          0.271351                0.490296   \n",
       "actor1facebooklikes          0.183601                0.945127   \n",
       "gross                        0.631404                0.240982   \n",
       "numvotedusers                1.000000                0.254050   \n",
       "casttotalfacebooklikes       0.254050                1.000000   \n",
       "facenumberinposter          -0.031955                0.087023   \n",
       "numuserforreviews            0.782493                0.185527   \n",
       "budget                       0.068834                0.030189   \n",
       "titleyear                    0.016773                0.120310   \n",
       "actor2facebooklikes          0.249130                0.643007   \n",
       "imdbscore                    0.473209                0.104546   \n",
       "aspectratio                  0.077138                0.065698   \n",
       "moviefacebooklikes           0.522649                0.206783   \n",
       "\n",
       "                        facenumberinposter  numuserforreviews    budget  \\\n",
       "numcriticforreviews              -0.033993           0.573599  0.107675   \n",
       "duration                          0.032083           0.356247  0.069564   \n",
       "directorfacebooklikes            -0.047136           0.220459  0.019235   \n",
       "actor3facebooklikes               0.104594           0.209947  0.041278   \n",
       "actor1facebooklikes               0.064688           0.127472  0.017554   \n",
       "gross                            -0.030783           0.552499  0.102179   \n",
       "numvotedusers                    -0.031955           0.782493  0.068834   \n",
       "casttotalfacebooklikes            0.087023           0.185527  0.030189   \n",
       "facenumberinposter                1.000000          -0.078637 -0.021984   \n",
       "numuserforreviews                -0.078637           1.000000  0.073352   \n",
       "budget                           -0.021984           0.073352  1.000000   \n",
       "titleyear                         0.069919           0.011868  0.044990   \n",
       "actor2facebooklikes               0.073309           0.192924  0.037010   \n",
       "imdbscore                        -0.067870           0.320005  0.029135   \n",
       "aspectratio                       0.017589           0.089032  0.024134   \n",
       "moviefacebooklikes                0.015260           0.376885  0.054696   \n",
       "\n",
       "                        titleyear  actor2facebooklikes  imdbscore  \\\n",
       "numcriticforreviews      0.392394             0.258964   0.340227   \n",
       "duration                -0.128210             0.132067   0.358273   \n",
       "directorfacebooklikes   -0.045781             0.118443   0.189293   \n",
       "actor3facebooklikes      0.111770             0.554644   0.064588   \n",
       "actor1facebooklikes      0.091258             0.392102   0.091885   \n",
       "gross                    0.046575             0.256761   0.211525   \n",
       "numvotedusers            0.016773             0.249130   0.473209   \n",
       "casttotalfacebooklikes   0.120310             0.643007   0.104546   \n",
       "facenumberinposter       0.069919             0.073309  -0.067870   \n",
       "numuserforreviews        0.011868             0.192924   0.320005   \n",
       "budget                   0.044990             0.037010   0.029135   \n",
       "titleyear                1.000000             0.115627  -0.130236   \n",
       "actor2facebooklikes      0.115627             1.000000   0.101485   \n",
       "imdbscore               -0.130236             0.101485   1.000000   \n",
       "aspectratio              0.225994             0.060039   0.024506   \n",
       "moviefacebooklikes       0.295541             0.233076   0.277349   \n",
       "\n",
       "                        aspectratio  moviefacebooklikes  \n",
       "numcriticforreviews        0.164919            0.703414  \n",
       "duration                   0.144818            0.221743  \n",
       "directorfacebooklikes      0.034724            0.162555  \n",
       "actor3facebooklikes        0.043633            0.272033  \n",
       "actor1facebooklikes        0.054683            0.131601  \n",
       "gross                      0.056805            0.375455  \n",
       "numvotedusers              0.077138            0.522649  \n",
       "casttotalfacebooklikes     0.065698            0.206783  \n",
       "facenumberinposter         0.017589            0.015260  \n",
       "numuserforreviews          0.089032            0.376885  \n",
       "budget                     0.024134            0.054696  \n",
       "titleyear                  0.225994            0.295541  \n",
       "actor2facebooklikes        0.060039            0.233076  \n",
       "imdbscore                  0.024506            0.277349  \n",
       "aspectratio                1.000000            0.105743  \n",
       "moviefacebooklikes         0.105743            1.000000  "
      ]
     },
     "execution_count": 561,
     "metadata": {},
     "output_type": "execute_result"
    }
   ],
   "source": [
    "df.corr()"
   ]
  },
  {
   "cell_type": "markdown",
   "metadata": {},
   "source": [
    "## Statistical hypothesis testing"
   ]
  },
  {
   "cell_type": "markdown",
   "metadata": {},
   "source": [
    "We will test the following hypothesis:\n",
    "    \"If the movie is in color, then IMDB Score will be higher.\""
   ]
  },
  {
   "cell_type": "code",
   "execution_count": 562,
   "metadata": {},
   "outputs": [
    {
     "data": {
      "text/plain": [
       "Ttest_indResult(statistic=7.267202991732777, pvalue=4.4131506661029804e-13)"
      ]
     },
     "execution_count": 562,
     "metadata": {},
     "output_type": "execute_result"
    }
   ],
   "source": [
    "from scipy.stats import ttest_ind\n",
    "ttest_ind(*df.groupby('color')['imdbscore'].apply(lambda x:list(x)))"
   ]
  },
  {
   "cell_type": "code",
   "execution_count": 563,
   "metadata": {
    "scrolled": false
   },
   "outputs": [
    {
     "data": {
      "text/plain": [
       "<matplotlib.axes._subplots.AxesSubplot at 0x1c33e4d3c18>"
      ]
     },
     "execution_count": 563,
     "metadata": {},
     "output_type": "execute_result"
    },
    {
     "data": {
      "image/png": "[encoded data removed]",
      "text/plain": [
       "<Figure size 576x576 with 1 Axes>"
      ]
     },
     "metadata": {
      "needs_background": "light"
     },
     "output_type": "display_data"
    }
   ],
   "source": [
    "df.boxplot('imdbscore', by='color', figsize=(8, 8))"
   ]
  },
  {
   "cell_type": "markdown",
   "metadata": {},
   "source": [
    "Statistical testing shows Black and White movies are statistically rated higher than color movies are on IMDB."
   ]
  },
  {
   "cell_type": "markdown",
   "metadata": {},
   "source": [
    "# Regression Analysis\n",
    "## SK learn Model\n",
    "### Building Model"
   ]
  },
  {
   "cell_type": "code",
   "execution_count": 564,
   "metadata": {},
   "outputs": [],
   "source": [
    "X = df[['numcriticforreviews', 'duration', 'directorfacebooklikes', 'actor3facebooklikes', 'actor1facebooklikes', 'gross', 'numvotedusers', 'casttotalfacebooklikes', 'facenumberinposter', 'numuserforreviews', 'budget', 'titleyear', 'actor2facebooklikes', 'aspectratio', 'moviefacebooklikes']]\n",
    "y = df['imdbscore'] "
   ]
  },
  {
   "cell_type": "code",
   "execution_count": 565,
   "metadata": {},
   "outputs": [
    {
     "name": "stdout",
     "output_type": "stream",
     "text": [
      "Coefficients:  [ 2.37164912e-03  1.03167088e-02  3.39884859e-06  8.33877593e-05\n",
      "  7.97054956e-05 -1.97000466e-09  3.76046997e-06 -7.87013040e-05\n",
      " -2.59702151e-02 -6.20459908e-04 -4.63066339e-11 -1.95743772e-02\n",
      "  8.25301814e-05 -5.42144892e-02 -1.74716541e-06]\n",
      "Y-Intercept:  44.29215369002356\n"
     ]
    }
   ],
   "source": [
    "model1 = lm.LinearRegression()\n",
    "model1.fit(X, y)   \n",
    "model1_y = model1.predict(X)\n",
    "print('Coefficients: ', model1.coef_)\n",
    "print(\"Y-Intercept: \", model1.intercept_)"
   ]
  },
  {
   "cell_type": "code",
   "execution_count": 566,
   "metadata": {},
   "outputs": [
    {
     "data": {
      "text/html": [
       "<div>\n",
       "<style scoped>\n",
       "    .dataframe tbody tr th:only-of-type {\n",
       "        vertical-align: middle;\n",
       "    }\n",
       "\n",
       "    .dataframe tbody tr th {\n",
       "        vertical-align: top;\n",
       "    }\n",
       "\n",
       "    .dataframe thead th {\n",
       "        text-align: right;\n",
       "    }\n",
       "</style>\n",
       "<table border=\"1\" class=\"dataframe\">\n",
       "  <thead>\n",
       "    <tr style=\"text-align: right;\">\n",
       "      <th></th>\n",
       "      <th>0</th>\n",
       "      <th>1</th>\n",
       "    </tr>\n",
       "  </thead>\n",
       "  <tbody>\n",
       "    <tr>\n",
       "      <th>0</th>\n",
       "      <td>numcriticforreviews</td>\n",
       "      <td>2.371649e-03</td>\n",
       "    </tr>\n",
       "    <tr>\n",
       "      <th>1</th>\n",
       "      <td>duration</td>\n",
       "      <td>1.031671e-02</td>\n",
       "    </tr>\n",
       "    <tr>\n",
       "      <th>2</th>\n",
       "      <td>directorfacebooklikes</td>\n",
       "      <td>3.398849e-06</td>\n",
       "    </tr>\n",
       "    <tr>\n",
       "      <th>3</th>\n",
       "      <td>actor3facebooklikes</td>\n",
       "      <td>8.338776e-05</td>\n",
       "    </tr>\n",
       "    <tr>\n",
       "      <th>4</th>\n",
       "      <td>actor1facebooklikes</td>\n",
       "      <td>7.970550e-05</td>\n",
       "    </tr>\n",
       "    <tr>\n",
       "      <th>5</th>\n",
       "      <td>gross</td>\n",
       "      <td>-1.970005e-09</td>\n",
       "    </tr>\n",
       "    <tr>\n",
       "      <th>6</th>\n",
       "      <td>numvotedusers</td>\n",
       "      <td>3.760470e-06</td>\n",
       "    </tr>\n",
       "    <tr>\n",
       "      <th>7</th>\n",
       "      <td>casttotalfacebooklikes</td>\n",
       "      <td>-7.870130e-05</td>\n",
       "    </tr>\n",
       "    <tr>\n",
       "      <th>8</th>\n",
       "      <td>facenumberinposter</td>\n",
       "      <td>-2.597022e-02</td>\n",
       "    </tr>\n",
       "    <tr>\n",
       "      <th>9</th>\n",
       "      <td>numuserforreviews</td>\n",
       "      <td>-6.204599e-04</td>\n",
       "    </tr>\n",
       "    <tr>\n",
       "      <th>10</th>\n",
       "      <td>budget</td>\n",
       "      <td>-4.630663e-11</td>\n",
       "    </tr>\n",
       "    <tr>\n",
       "      <th>11</th>\n",
       "      <td>titleyear</td>\n",
       "      <td>-1.957438e-02</td>\n",
       "    </tr>\n",
       "    <tr>\n",
       "      <th>12</th>\n",
       "      <td>actor2facebooklikes</td>\n",
       "      <td>8.253018e-05</td>\n",
       "    </tr>\n",
       "    <tr>\n",
       "      <th>13</th>\n",
       "      <td>aspectratio</td>\n",
       "      <td>-5.421449e-02</td>\n",
       "    </tr>\n",
       "    <tr>\n",
       "      <th>14</th>\n",
       "      <td>moviefacebooklikes</td>\n",
       "      <td>-1.747165e-06</td>\n",
       "    </tr>\n",
       "  </tbody>\n",
       "</table>\n",
       "</div>"
      ],
      "text/plain": [
       "                         0             1\n",
       "0      numcriticforreviews  2.371649e-03\n",
       "1                 duration  1.031671e-02\n",
       "2    directorfacebooklikes  3.398849e-06\n",
       "3      actor3facebooklikes  8.338776e-05\n",
       "4      actor1facebooklikes  7.970550e-05\n",
       "5                    gross -1.970005e-09\n",
       "6            numvotedusers  3.760470e-06\n",
       "7   casttotalfacebooklikes -7.870130e-05\n",
       "8       facenumberinposter -2.597022e-02\n",
       "9        numuserforreviews -6.204599e-04\n",
       "10                  budget -4.630663e-11\n",
       "11               titleyear -1.957438e-02\n",
       "12     actor2facebooklikes  8.253018e-05\n",
       "13             aspectratio -5.421449e-02\n",
       "14      moviefacebooklikes -1.747165e-06"
      ]
     },
     "execution_count": 566,
     "metadata": {},
     "output_type": "execute_result"
    }
   ],
   "source": [
    "pd.DataFrame(list(zip(X.columns, np.transpose(model1.coef_))))"
   ]
  },
  {
   "cell_type": "markdown",
   "metadata": {},
   "source": [
    "### Evaluating Model"
   ]
  },
  {
   "cell_type": "code",
   "execution_count": 567,
   "metadata": {},
   "outputs": [
    {
     "data": {
      "image/png": "[encoded data removed]",
      "text/plain": [
       "<Figure size 432x288 with 1 Axes>"
      ]
     },
     "metadata": {
      "needs_background": "light"
     },
     "output_type": "display_data"
    }
   ],
   "source": [
    "plt.subplots()\n",
    "plt.scatter(y, model1_y)\n",
    "plt.plot([y.min(), y.max()], [y.min(), y.max()], 'k--', lw=4)  \n",
    "plt.xlabel('Actual')\n",
    "plt.ylabel('Predicted')\n",
    "plt.show()"
   ]
  },
  {
   "cell_type": "code",
   "execution_count": 568,
   "metadata": {},
   "outputs": [
    {
     "name": "stdout",
     "output_type": "stream",
     "text": [
      "mean square error:  0.7281246918052668\n",
      "variance or r-squared:  0.346984325951854\n"
     ]
    }
   ],
   "source": [
    "print(\"mean square error: \", mean_squared_error(y, model1_y))\n",
    "print(\"variance or r-squared: \", explained_variance_score(y, model1_y))"
   ]
  },
  {
   "cell_type": "markdown",
   "metadata": {},
   "source": [
    "This model has a very low R-Square value, and is a poor regression model for predicting IMDB score. "
   ]
  },
  {
   "cell_type": "markdown",
   "metadata": {},
   "source": [
    "## Statmodel\n",
    "### Building Model"
   ]
  },
  {
   "cell_type": "code",
   "execution_count": 569,
   "metadata": {},
   "outputs": [],
   "source": [
    "model3 = lm.LinearRegression()\n",
    "model3.fit(X, y)   \n",
    "model3_y = model2.predict(X)"
   ]
  },
  {
   "cell_type": "code",
   "execution_count": 570,
   "metadata": {},
   "outputs": [
    {
     "name": "stdout",
     "output_type": "stream",
     "text": [
      "Coefficients:  [ 2.37164912e-03  1.03167088e-02  3.39884859e-06  8.33877593e-05\n",
      "  7.97054956e-05 -1.97000466e-09  3.76046997e-06 -7.87013040e-05\n",
      " -2.59702151e-02 -6.20459908e-04 -4.63066339e-11 -1.95743772e-02\n",
      "  8.25301814e-05 -5.42144892e-02 -1.74716541e-06]\n",
      "Y-Intercept:  44.29215369002356\n"
     ]
    }
   ],
   "source": [
    "model3 = lm.LinearRegression()\n",
    "model3.fit(X, y)   \n",
    "model3_y = model2.predict(X)\n",
    "print('Coefficients: ', model3.coef_)\n",
    "print(\"Y-Intercept: \", model3.intercept_)"
   ]
  },
  {
   "cell_type": "code",
   "execution_count": 571,
   "metadata": {},
   "outputs": [
    {
     "data": {
      "text/html": [
       "<div>\n",
       "<style scoped>\n",
       "    .dataframe tbody tr th:only-of-type {\n",
       "        vertical-align: middle;\n",
       "    }\n",
       "\n",
       "    .dataframe tbody tr th {\n",
       "        vertical-align: top;\n",
       "    }\n",
       "\n",
       "    .dataframe thead th {\n",
       "        text-align: right;\n",
       "    }\n",
       "</style>\n",
       "<table border=\"1\" class=\"dataframe\">\n",
       "  <thead>\n",
       "    <tr style=\"text-align: right;\">\n",
       "      <th></th>\n",
       "      <th>0</th>\n",
       "      <th>1</th>\n",
       "    </tr>\n",
       "  </thead>\n",
       "  <tbody>\n",
       "    <tr>\n",
       "      <th>0</th>\n",
       "      <td>numcriticforreviews</td>\n",
       "      <td>2.371649e-03</td>\n",
       "    </tr>\n",
       "    <tr>\n",
       "      <th>1</th>\n",
       "      <td>duration</td>\n",
       "      <td>1.031671e-02</td>\n",
       "    </tr>\n",
       "    <tr>\n",
       "      <th>2</th>\n",
       "      <td>directorfacebooklikes</td>\n",
       "      <td>3.398849e-06</td>\n",
       "    </tr>\n",
       "    <tr>\n",
       "      <th>3</th>\n",
       "      <td>actor3facebooklikes</td>\n",
       "      <td>8.338776e-05</td>\n",
       "    </tr>\n",
       "    <tr>\n",
       "      <th>4</th>\n",
       "      <td>actor1facebooklikes</td>\n",
       "      <td>7.970550e-05</td>\n",
       "    </tr>\n",
       "    <tr>\n",
       "      <th>5</th>\n",
       "      <td>gross</td>\n",
       "      <td>-1.970005e-09</td>\n",
       "    </tr>\n",
       "    <tr>\n",
       "      <th>6</th>\n",
       "      <td>numvotedusers</td>\n",
       "      <td>3.760470e-06</td>\n",
       "    </tr>\n",
       "    <tr>\n",
       "      <th>7</th>\n",
       "      <td>casttotalfacebooklikes</td>\n",
       "      <td>-7.870130e-05</td>\n",
       "    </tr>\n",
       "    <tr>\n",
       "      <th>8</th>\n",
       "      <td>facenumberinposter</td>\n",
       "      <td>-2.597022e-02</td>\n",
       "    </tr>\n",
       "    <tr>\n",
       "      <th>9</th>\n",
       "      <td>numuserforreviews</td>\n",
       "      <td>-6.204599e-04</td>\n",
       "    </tr>\n",
       "    <tr>\n",
       "      <th>10</th>\n",
       "      <td>budget</td>\n",
       "      <td>-4.630663e-11</td>\n",
       "    </tr>\n",
       "    <tr>\n",
       "      <th>11</th>\n",
       "      <td>titleyear</td>\n",
       "      <td>-1.957438e-02</td>\n",
       "    </tr>\n",
       "    <tr>\n",
       "      <th>12</th>\n",
       "      <td>actor2facebooklikes</td>\n",
       "      <td>8.253018e-05</td>\n",
       "    </tr>\n",
       "    <tr>\n",
       "      <th>13</th>\n",
       "      <td>aspectratio</td>\n",
       "      <td>-5.421449e-02</td>\n",
       "    </tr>\n",
       "    <tr>\n",
       "      <th>14</th>\n",
       "      <td>moviefacebooklikes</td>\n",
       "      <td>-1.747165e-06</td>\n",
       "    </tr>\n",
       "  </tbody>\n",
       "</table>\n",
       "</div>"
      ],
      "text/plain": [
       "                         0             1\n",
       "0      numcriticforreviews  2.371649e-03\n",
       "1                 duration  1.031671e-02\n",
       "2    directorfacebooklikes  3.398849e-06\n",
       "3      actor3facebooklikes  8.338776e-05\n",
       "4      actor1facebooklikes  7.970550e-05\n",
       "5                    gross -1.970005e-09\n",
       "6            numvotedusers  3.760470e-06\n",
       "7   casttotalfacebooklikes -7.870130e-05\n",
       "8       facenumberinposter -2.597022e-02\n",
       "9        numuserforreviews -6.204599e-04\n",
       "10                  budget -4.630663e-11\n",
       "11               titleyear -1.957438e-02\n",
       "12     actor2facebooklikes  8.253018e-05\n",
       "13             aspectratio -5.421449e-02\n",
       "14      moviefacebooklikes -1.747165e-06"
      ]
     },
     "execution_count": 571,
     "metadata": {},
     "output_type": "execute_result"
    }
   ],
   "source": [
    "pd.DataFrame(list(zip(X.columns, np.transpose(model3.coef_))))"
   ]
  },
  {
   "cell_type": "code",
   "execution_count": 572,
   "metadata": {},
   "outputs": [
    {
     "name": "stdout",
     "output_type": "stream",
     "text": [
      "                            OLS Regression Results                            \n",
      "==============================================================================\n",
      "Dep. Variable:              imdbscore   R-squared:                       0.128\n",
      "Model:                            OLS   Adj. R-squared:                  0.128\n",
      "Method:                 Least Squares   F-statistic:                     572.7\n",
      "Date:                Tue, 10 Dec 2019   Prob (F-statistic):          3.45e-118\n",
      "Time:                        18:18:44   Log-Likelihood:                -5465.6\n",
      "No. Observations:                3891   AIC:                         1.094e+04\n",
      "Df Residuals:                    3889   BIC:                         1.095e+04\n",
      "Df Model:                           1                                         \n",
      "Covariance Type:            nonrobust                                         \n",
      "==============================================================================\n",
      "                 coef    std err          t      P>|t|      [0.025      0.975]\n",
      "------------------------------------------------------------------------------\n",
      "Intercept      4.6321      0.078     59.277      0.000       4.479       4.785\n",
      "duration       0.0167      0.001     23.931      0.000       0.015       0.018\n",
      "==============================================================================\n",
      "Omnibus:                      392.148   Durbin-Watson:                   1.888\n",
      "Prob(Omnibus):                  0.000   Jarque-Bera (JB):              620.833\n",
      "Skew:                          -0.734   Prob(JB):                    1.54e-135\n",
      "Kurtosis:                       4.294   Cond. No.                         555.\n",
      "==============================================================================\n",
      "\n",
      "Warnings:\n",
      "[1] Standard Errors assume that the covariance matrix of the errors is correctly specified.\n"
     ]
    }
   ],
   "source": [
    "runs_reg_model3 = ols(\"imdbscore~duration\",df)\n",
    "runs_reg3 = runs_reg_model3.fit()\n",
    "print(runs_reg3.summary())"
   ]
  },
  {
   "cell_type": "code",
   "execution_count": 573,
   "metadata": {},
   "outputs": [
    {
     "data": {
      "text/plain": [
       "[('numcriticforreviews', '0.002'),\n",
       " ('duration', '0.010'),\n",
       " ('directorfacebooklikes', '0.000'),\n",
       " ('actor3facebooklikes', '0.000'),\n",
       " ('actor1facebooklikes', '0.000'),\n",
       " ('gross', '-0.000'),\n",
       " ('numvotedusers', '0.000'),\n",
       " ('casttotalfacebooklikes', '-0.000'),\n",
       " ('facenumberinposter', '-0.026'),\n",
       " ('numuserforreviews', '-0.001'),\n",
       " ('budget', '-0.000'),\n",
       " ('titleyear', '-0.020'),\n",
       " ('actor2facebooklikes', '0.000'),\n",
       " ('aspectratio', '-0.054'),\n",
       " ('moviefacebooklikes', '-0.000')]"
      ]
     },
     "execution_count": 573,
     "metadata": {},
     "output_type": "execute_result"
    }
   ],
   "source": [
    "coef = [\"%.3f\" % i for i in model3.coef_]\n",
    "xcolumns = [ i for i in X.columns ]\n",
    "list(zip(xcolumns, coef))"
   ]
  },
  {
   "cell_type": "code",
   "execution_count": 574,
   "metadata": {},
   "outputs": [
    {
     "name": "stdout",
     "output_type": "stream",
     "text": [
      "mean square error:  0.7281246918052668\n",
      "variance or r-squared:  0.346984325951854\n"
     ]
    }
   ],
   "source": [
    "print(\"mean square error: \", mean_squared_error(y, model3_y))\n",
    "print(\"variance or r-squared: \", explained_variance_score(y, model3_y))"
   ]
  },
  {
   "cell_type": "markdown",
   "metadata": {},
   "source": [
    "This model is not any better than the first. "
   ]
  },
  {
   "cell_type": "markdown",
   "metadata": {},
   "source": [
    "## Regularization and Feature Selection\n",
    "### Lasso for Model 3"
   ]
  },
  {
   "cell_type": "code",
   "execution_count": 575,
   "metadata": {},
   "outputs": [
    {
     "name": "stderr",
     "output_type": "stream",
     "text": [
      "C:\\Users\\lizzy\\Downloads\\New folder\\lib\\site-packages\\sklearn\\linear_model\\coordinate_descent.py:475: ConvergenceWarning: Objective did not converge. You might want to increase the number of iterations. Duality gap: 1435.1962052637416, tolerance: 0.43385377846311995\n",
      "  positive)\n"
     ]
    },
    {
     "data": {
      "text/plain": [
       "[('numcriticforreviews', '0.002'),\n",
       " ('duration', '0.010'),\n",
       " ('directorfacebooklikes', '0.000'),\n",
       " ('actor3facebooklikes', '0.000'),\n",
       " ('actor1facebooklikes', '0.000'),\n",
       " ('gross', '-0.000'),\n",
       " ('numvotedusers', '0.000'),\n",
       " ('casttotalfacebooklikes', '-0.000'),\n",
       " ('facenumberinposter', '-0.002'),\n",
       " ('numuserforreviews', '-0.001'),\n",
       " ('budget', '-0.000'),\n",
       " ('titleyear', '-0.019'),\n",
       " ('actor2facebooklikes', '0.000'),\n",
       " ('aspectratio', '-0.000'),\n",
       " ('moviefacebooklikes', '-0.000')]"
      ]
     },
     "execution_count": 575,
     "metadata": {},
     "output_type": "execute_result"
    }
   ],
   "source": [
    "model3= lm.Lasso(alpha=0.1)        \n",
    "model3.fit(X, y)\n",
    "model3_y = model3.predict(X)\n",
    "coef = [\"%.3f\" % i for i in model3.coef_]\n",
    "xcolumns = [ i for i in X.columns ]\n",
    "list(zip(xcolumns, coef))"
   ]
  },
  {
   "cell_type": "code",
   "execution_count": 576,
   "metadata": {},
   "outputs": [
    {
     "name": "stdout",
     "output_type": "stream",
     "text": [
      "mean square error:  0.7310181189811694\n",
      "variance or r-squared:  0.344389367534915\n"
     ]
    }
   ],
   "source": [
    "print(\"mean square error: \", mean_squared_error(y, model3_y))\n",
    "print(\"variance or r-squared: \", explained_variance_score(y, model3_y))"
   ]
  },
  {
   "cell_type": "markdown",
   "metadata": {},
   "source": [
    "This actually made it worse. \n",
    "### k=3 for model 3\n",
    "(k=4 is used as the index is selected by the computer, and that it a manually created collumn not related to the data set)"
   ]
  },
  {
   "cell_type": "code",
   "execution_count": 577,
   "metadata": {},
   "outputs": [
    {
     "name": "stdout",
     "output_type": "stream",
     "text": [
      "[0 1 6]\n"
     ]
    },
    {
     "data": {
      "text/html": [
       "<div>\n",
       "<style scoped>\n",
       "    .dataframe tbody tr th:only-of-type {\n",
       "        vertical-align: middle;\n",
       "    }\n",
       "\n",
       "    .dataframe tbody tr th {\n",
       "        vertical-align: top;\n",
       "    }\n",
       "\n",
       "    .dataframe thead th {\n",
       "        text-align: right;\n",
       "    }\n",
       "</style>\n",
       "<table border=\"1\" class=\"dataframe\">\n",
       "  <thead>\n",
       "    <tr style=\"text-align: right;\">\n",
       "      <th></th>\n",
       "      <th>numcriticforreviews</th>\n",
       "      <th>duration</th>\n",
       "      <th>directorfacebooklikes</th>\n",
       "      <th>actor3facebooklikes</th>\n",
       "      <th>actor1facebooklikes</th>\n",
       "      <th>gross</th>\n",
       "      <th>numvotedusers</th>\n",
       "      <th>casttotalfacebooklikes</th>\n",
       "      <th>facenumberinposter</th>\n",
       "      <th>numuserforreviews</th>\n",
       "      <th>budget</th>\n",
       "      <th>titleyear</th>\n",
       "      <th>actor2facebooklikes</th>\n",
       "      <th>aspectratio</th>\n",
       "      <th>moviefacebooklikes</th>\n",
       "    </tr>\n",
       "  </thead>\n",
       "  <tbody>\n",
       "    <tr>\n",
       "      <th>0</th>\n",
       "      <td>723.0</td>\n",
       "      <td>178.0</td>\n",
       "      <td>0.0</td>\n",
       "      <td>855.0</td>\n",
       "      <td>1000.0</td>\n",
       "      <td>760505847.0</td>\n",
       "      <td>886204</td>\n",
       "      <td>4834</td>\n",
       "      <td>0.0</td>\n",
       "      <td>3054.0</td>\n",
       "      <td>237000000.0</td>\n",
       "      <td>2009.0</td>\n",
       "      <td>936.0</td>\n",
       "      <td>1.78</td>\n",
       "      <td>33000</td>\n",
       "    </tr>\n",
       "    <tr>\n",
       "      <th>1</th>\n",
       "      <td>302.0</td>\n",
       "      <td>169.0</td>\n",
       "      <td>563.0</td>\n",
       "      <td>1000.0</td>\n",
       "      <td>40000.0</td>\n",
       "      <td>309404152.0</td>\n",
       "      <td>471220</td>\n",
       "      <td>48350</td>\n",
       "      <td>0.0</td>\n",
       "      <td>1238.0</td>\n",
       "      <td>300000000.0</td>\n",
       "      <td>2007.0</td>\n",
       "      <td>5000.0</td>\n",
       "      <td>2.35</td>\n",
       "      <td>0</td>\n",
       "    </tr>\n",
       "  </tbody>\n",
       "</table>\n",
       "</div>"
      ],
      "text/plain": [
       "   numcriticforreviews  duration  directorfacebooklikes  actor3facebooklikes  \\\n",
       "0                723.0     178.0                    0.0                855.0   \n",
       "1                302.0     169.0                  563.0               1000.0   \n",
       "\n",
       "   actor1facebooklikes        gross  numvotedusers  casttotalfacebooklikes  \\\n",
       "0               1000.0  760505847.0         886204                    4834   \n",
       "1              40000.0  309404152.0         471220                   48350   \n",
       "\n",
       "   facenumberinposter  numuserforreviews       budget  titleyear  \\\n",
       "0                 0.0             3054.0  237000000.0     2009.0   \n",
       "1                 0.0             1238.0  300000000.0     2007.0   \n",
       "\n",
       "   actor2facebooklikes  aspectratio  moviefacebooklikes  \n",
       "0                936.0         1.78               33000  \n",
       "1               5000.0         2.35                   0  "
      ]
     },
     "execution_count": 577,
     "metadata": {},
     "output_type": "execute_result"
    }
   ],
   "source": [
    "X_new = SelectKBest(f_regression, k=3).fit_transform(X, y)\n",
    "selector = SelectKBest(f_regression, k=3).fit(X, y)\n",
    "idxs_selected = selector.get_support(indices=True)\n",
    "print(idxs_selected)\n",
    "X.head(2)"
   ]
  },
  {
   "cell_type": "markdown",
   "metadata": {},
   "source": [
    "The following columns have been determined as the most important for regression:\n",
    "   * numcriticforreviews\n",
    "   * duration\n",
    "   * numvotedusers"
   ]
  },
  {
   "cell_type": "code",
   "execution_count": 578,
   "metadata": {},
   "outputs": [
    {
     "name": "stdout",
     "output_type": "stream",
     "text": [
      "mean square error:  0.812873215643582\n",
      "variance or r-squared:  0.2709779563812096\n"
     ]
    }
   ],
   "source": [
    "model5 = lm.LinearRegression()\n",
    "model5.fit(X_new, y)\n",
    "model5_y = model5.predict(X_new)\n",
    "\n",
    "print(\"mean square error: \", mean_squared_error(y, model5_y))\n",
    "print(\"variance or r-squared: \", explained_variance_score(y, model5_y))"
   ]
  },
  {
   "cell_type": "markdown",
   "metadata": {},
   "source": [
    "Again, a pretty poor regressive model."
   ]
  },
  {
   "cell_type": "markdown",
   "metadata": {},
   "source": [
    "## Regression Model Selection\n",
    "This was not very effective in predicting the score of movies, but the most accurate model is a tie between sk learn and statmodel. "
   ]
  },
  {
   "cell_type": "markdown",
   "metadata": {},
   "source": [
    "## Classification\n",
    "### Creating Bins"
   ]
  },
  {
   "cell_type": "code",
   "execution_count": 579,
   "metadata": {},
   "outputs": [],
   "source": [
    "df['bin'] = pd.cut(df['imdbscore'], [0, 4, 6, 8, 10], labels=['Bad', 'Okay', 'Good', 'Excellent'])"
   ]
  },
  {
   "cell_type": "code",
   "execution_count": 580,
   "metadata": {},
   "outputs": [
    {
     "data": {
      "text/html": [
       "<div>\n",
       "<style scoped>\n",
       "    .dataframe tbody tr th:only-of-type {\n",
       "        vertical-align: middle;\n",
       "    }\n",
       "\n",
       "    .dataframe tbody tr th {\n",
       "        vertical-align: top;\n",
       "    }\n",
       "\n",
       "    .dataframe thead th {\n",
       "        text-align: right;\n",
       "    }\n",
       "</style>\n",
       "<table border=\"1\" class=\"dataframe\">\n",
       "  <thead>\n",
       "    <tr style=\"text-align: right;\">\n",
       "      <th></th>\n",
       "      <th>color</th>\n",
       "      <th>directorname</th>\n",
       "      <th>numcriticforreviews</th>\n",
       "      <th>duration</th>\n",
       "      <th>directorfacebooklikes</th>\n",
       "      <th>actor3facebooklikes</th>\n",
       "      <th>actor2name</th>\n",
       "      <th>actor1facebooklikes</th>\n",
       "      <th>gross</th>\n",
       "      <th>genres</th>\n",
       "      <th>...</th>\n",
       "      <th>language</th>\n",
       "      <th>country</th>\n",
       "      <th>contentrating</th>\n",
       "      <th>budget</th>\n",
       "      <th>titleyear</th>\n",
       "      <th>actor2facebooklikes</th>\n",
       "      <th>imdbscore</th>\n",
       "      <th>aspectratio</th>\n",
       "      <th>moviefacebooklikes</th>\n",
       "      <th>bin</th>\n",
       "    </tr>\n",
       "  </thead>\n",
       "  <tbody>\n",
       "    <tr>\n",
       "      <th>0</th>\n",
       "      <td>Color</td>\n",
       "      <td>James Cameron</td>\n",
       "      <td>723.0</td>\n",
       "      <td>178.0</td>\n",
       "      <td>0.0</td>\n",
       "      <td>855.0</td>\n",
       "      <td>Joel David Moore</td>\n",
       "      <td>1000.0</td>\n",
       "      <td>760505847.0</td>\n",
       "      <td>Action|Adventure|Fantasy|Sci-Fi</td>\n",
       "      <td>...</td>\n",
       "      <td>English</td>\n",
       "      <td>USA</td>\n",
       "      <td>PG-13</td>\n",
       "      <td>237000000.0</td>\n",
       "      <td>2009.0</td>\n",
       "      <td>936.0</td>\n",
       "      <td>7.9</td>\n",
       "      <td>1.78</td>\n",
       "      <td>33000</td>\n",
       "      <td>Good</td>\n",
       "    </tr>\n",
       "    <tr>\n",
       "      <th>1</th>\n",
       "      <td>Color</td>\n",
       "      <td>Gore Verbinski</td>\n",
       "      <td>302.0</td>\n",
       "      <td>169.0</td>\n",
       "      <td>563.0</td>\n",
       "      <td>1000.0</td>\n",
       "      <td>Orlando Bloom</td>\n",
       "      <td>40000.0</td>\n",
       "      <td>309404152.0</td>\n",
       "      <td>Action|Adventure|Fantasy</td>\n",
       "      <td>...</td>\n",
       "      <td>English</td>\n",
       "      <td>USA</td>\n",
       "      <td>PG-13</td>\n",
       "      <td>300000000.0</td>\n",
       "      <td>2007.0</td>\n",
       "      <td>5000.0</td>\n",
       "      <td>7.1</td>\n",
       "      <td>2.35</td>\n",
       "      <td>0</td>\n",
       "      <td>Good</td>\n",
       "    </tr>\n",
       "    <tr>\n",
       "      <th>2</th>\n",
       "      <td>Color</td>\n",
       "      <td>Sam Mendes</td>\n",
       "      <td>602.0</td>\n",
       "      <td>148.0</td>\n",
       "      <td>0.0</td>\n",
       "      <td>161.0</td>\n",
       "      <td>Rory Kinnear</td>\n",
       "      <td>11000.0</td>\n",
       "      <td>200074175.0</td>\n",
       "      <td>Action|Adventure|Thriller</td>\n",
       "      <td>...</td>\n",
       "      <td>English</td>\n",
       "      <td>UK</td>\n",
       "      <td>PG-13</td>\n",
       "      <td>245000000.0</td>\n",
       "      <td>2015.0</td>\n",
       "      <td>393.0</td>\n",
       "      <td>6.8</td>\n",
       "      <td>2.35</td>\n",
       "      <td>85000</td>\n",
       "      <td>Good</td>\n",
       "    </tr>\n",
       "    <tr>\n",
       "      <th>3</th>\n",
       "      <td>Color</td>\n",
       "      <td>Christopher Nolan</td>\n",
       "      <td>813.0</td>\n",
       "      <td>164.0</td>\n",
       "      <td>22000.0</td>\n",
       "      <td>23000.0</td>\n",
       "      <td>Christian Bale</td>\n",
       "      <td>27000.0</td>\n",
       "      <td>448130642.0</td>\n",
       "      <td>Action|Thriller</td>\n",
       "      <td>...</td>\n",
       "      <td>English</td>\n",
       "      <td>USA</td>\n",
       "      <td>PG-13</td>\n",
       "      <td>250000000.0</td>\n",
       "      <td>2012.0</td>\n",
       "      <td>23000.0</td>\n",
       "      <td>8.5</td>\n",
       "      <td>2.35</td>\n",
       "      <td>164000</td>\n",
       "      <td>Excellent</td>\n",
       "    </tr>\n",
       "    <tr>\n",
       "      <th>5</th>\n",
       "      <td>Color</td>\n",
       "      <td>Andrew Stanton</td>\n",
       "      <td>462.0</td>\n",
       "      <td>132.0</td>\n",
       "      <td>475.0</td>\n",
       "      <td>530.0</td>\n",
       "      <td>Samantha Morton</td>\n",
       "      <td>640.0</td>\n",
       "      <td>73058679.0</td>\n",
       "      <td>Action|Adventure|Sci-Fi</td>\n",
       "      <td>...</td>\n",
       "      <td>English</td>\n",
       "      <td>USA</td>\n",
       "      <td>PG-13</td>\n",
       "      <td>263700000.0</td>\n",
       "      <td>2012.0</td>\n",
       "      <td>632.0</td>\n",
       "      <td>6.6</td>\n",
       "      <td>2.35</td>\n",
       "      <td>24000</td>\n",
       "      <td>Good</td>\n",
       "    </tr>\n",
       "  </tbody>\n",
       "</table>\n",
       "<p>5 rows × 29 columns</p>\n",
       "</div>"
      ],
      "text/plain": [
       "   color       directorname  numcriticforreviews  duration  \\\n",
       "0  Color      James Cameron                723.0     178.0   \n",
       "1  Color     Gore Verbinski                302.0     169.0   \n",
       "2  Color         Sam Mendes                602.0     148.0   \n",
       "3  Color  Christopher Nolan                813.0     164.0   \n",
       "5  Color     Andrew Stanton                462.0     132.0   \n",
       "\n",
       "   directorfacebooklikes  actor3facebooklikes        actor2name  \\\n",
       "0                    0.0                855.0  Joel David Moore   \n",
       "1                  563.0               1000.0     Orlando Bloom   \n",
       "2                    0.0                161.0      Rory Kinnear   \n",
       "3                22000.0              23000.0    Christian Bale   \n",
       "5                  475.0                530.0   Samantha Morton   \n",
       "\n",
       "   actor1facebooklikes        gross                           genres  ...  \\\n",
       "0               1000.0  760505847.0  Action|Adventure|Fantasy|Sci-Fi  ...   \n",
       "1              40000.0  309404152.0         Action|Adventure|Fantasy  ...   \n",
       "2              11000.0  200074175.0        Action|Adventure|Thriller  ...   \n",
       "3              27000.0  448130642.0                  Action|Thriller  ...   \n",
       "5                640.0   73058679.0          Action|Adventure|Sci-Fi  ...   \n",
       "\n",
       "  language country  contentrating       budget titleyear  actor2facebooklikes  \\\n",
       "0  English     USA          PG-13  237000000.0    2009.0                936.0   \n",
       "1  English     USA          PG-13  300000000.0    2007.0               5000.0   \n",
       "2  English      UK          PG-13  245000000.0    2015.0                393.0   \n",
       "3  English     USA          PG-13  250000000.0    2012.0              23000.0   \n",
       "5  English     USA          PG-13  263700000.0    2012.0                632.0   \n",
       "\n",
       "  imdbscore aspectratio  moviefacebooklikes        bin  \n",
       "0       7.9        1.78               33000       Good  \n",
       "1       7.1        2.35                   0       Good  \n",
       "2       6.8        2.35               85000       Good  \n",
       "3       8.5        2.35              164000  Excellent  \n",
       "5       6.6        2.35               24000       Good  \n",
       "\n",
       "[5 rows x 29 columns]"
      ]
     },
     "execution_count": 580,
     "metadata": {},
     "output_type": "execute_result"
    }
   ],
   "source": [
    "df.head()"
   ]
  },
  {
   "cell_type": "markdown",
   "metadata": {},
   "source": [
    "## Decision Tree Model"
   ]
  },
  {
   "cell_type": "code",
   "execution_count": 581,
   "metadata": {},
   "outputs": [
    {
     "name": "stdout",
     "output_type": "stream",
     "text": [
      "One-way ANOVA P = 0.0\n"
     ]
    }
   ],
   "source": [
    "bad = df[df['bin'] == 'Bad']['numvotedusers']\n",
    "okay = df[df['bin'] == 'Okay']['numvotedusers']\n",
    "good = df[df['bin'] == 'Good']['numvotedusers']\n",
    "excellent = df[df['bin'] == 'Excellent']['numvotedusers']\n",
    "\n",
    "f_val, p_val = stats.f_oneway(bad, okay, good, excellent )  \n",
    "  \n",
    "print(\"One-way ANOVA P =\", p_val)"
   ]
  },
  {
   "cell_type": "code",
   "execution_count": 582,
   "metadata": {},
   "outputs": [
    {
     "data": {
      "text/html": [
       "<div>\n",
       "<style scoped>\n",
       "    .dataframe tbody tr th:only-of-type {\n",
       "        vertical-align: middle;\n",
       "    }\n",
       "\n",
       "    .dataframe tbody tr th {\n",
       "        vertical-align: top;\n",
       "    }\n",
       "\n",
       "    .dataframe thead th {\n",
       "        text-align: right;\n",
       "    }\n",
       "</style>\n",
       "<table border=\"1\" class=\"dataframe\">\n",
       "  <thead>\n",
       "    <tr style=\"text-align: right;\">\n",
       "      <th></th>\n",
       "      <th>numcriticforreviews</th>\n",
       "      <th>duration</th>\n",
       "      <th>directorfacebooklikes</th>\n",
       "      <th>actor3facebooklikes</th>\n",
       "      <th>actor1facebooklikes</th>\n",
       "      <th>gross</th>\n",
       "      <th>numvotedusers</th>\n",
       "      <th>casttotalfacebooklikes</th>\n",
       "      <th>facenumberinposter</th>\n",
       "      <th>numuserforreviews</th>\n",
       "      <th>...</th>\n",
       "      <th>contentrating_GP</th>\n",
       "      <th>contentrating_M</th>\n",
       "      <th>contentrating_NC-17</th>\n",
       "      <th>contentrating_Not Rated</th>\n",
       "      <th>contentrating_PG</th>\n",
       "      <th>contentrating_PG-13</th>\n",
       "      <th>contentrating_Passed</th>\n",
       "      <th>contentrating_R</th>\n",
       "      <th>contentrating_Unrated</th>\n",
       "      <th>contentrating_X</th>\n",
       "    </tr>\n",
       "  </thead>\n",
       "  <tbody>\n",
       "    <tr>\n",
       "      <th>0</th>\n",
       "      <td>723.0</td>\n",
       "      <td>178.0</td>\n",
       "      <td>0.0</td>\n",
       "      <td>855.0</td>\n",
       "      <td>1000.0</td>\n",
       "      <td>760505847.0</td>\n",
       "      <td>886204</td>\n",
       "      <td>4834</td>\n",
       "      <td>0.0</td>\n",
       "      <td>3054.0</td>\n",
       "      <td>...</td>\n",
       "      <td>0</td>\n",
       "      <td>0</td>\n",
       "      <td>0</td>\n",
       "      <td>0</td>\n",
       "      <td>0</td>\n",
       "      <td>1</td>\n",
       "      <td>0</td>\n",
       "      <td>0</td>\n",
       "      <td>0</td>\n",
       "      <td>0</td>\n",
       "    </tr>\n",
       "    <tr>\n",
       "      <th>1</th>\n",
       "      <td>302.0</td>\n",
       "      <td>169.0</td>\n",
       "      <td>563.0</td>\n",
       "      <td>1000.0</td>\n",
       "      <td>40000.0</td>\n",
       "      <td>309404152.0</td>\n",
       "      <td>471220</td>\n",
       "      <td>48350</td>\n",
       "      <td>0.0</td>\n",
       "      <td>1238.0</td>\n",
       "      <td>...</td>\n",
       "      <td>0</td>\n",
       "      <td>0</td>\n",
       "      <td>0</td>\n",
       "      <td>0</td>\n",
       "      <td>0</td>\n",
       "      <td>1</td>\n",
       "      <td>0</td>\n",
       "      <td>0</td>\n",
       "      <td>0</td>\n",
       "      <td>0</td>\n",
       "    </tr>\n",
       "  </tbody>\n",
       "</table>\n",
       "<p>2 rows × 30 columns</p>\n",
       "</div>"
      ],
      "text/plain": [
       "   numcriticforreviews  duration  directorfacebooklikes  actor3facebooklikes  \\\n",
       "0                723.0     178.0                    0.0                855.0   \n",
       "1                302.0     169.0                  563.0               1000.0   \n",
       "\n",
       "   actor1facebooklikes        gross  numvotedusers  casttotalfacebooklikes  \\\n",
       "0               1000.0  760505847.0         886204                    4834   \n",
       "1              40000.0  309404152.0         471220                   48350   \n",
       "\n",
       "   facenumberinposter  numuserforreviews  ...  contentrating_GP  \\\n",
       "0                 0.0             3054.0  ...                 0   \n",
       "1                 0.0             1238.0  ...                 0   \n",
       "\n",
       "   contentrating_M  contentrating_NC-17  contentrating_Not Rated  \\\n",
       "0                0                    0                        0   \n",
       "1                0                    0                        0   \n",
       "\n",
       "   contentrating_PG contentrating_PG-13  contentrating_Passed  \\\n",
       "0                 0                   1                     0   \n",
       "1                 0                   1                     0   \n",
       "\n",
       "   contentrating_R  contentrating_Unrated  contentrating_X  \n",
       "0                0                      0                0  \n",
       "1                0                      0                0  \n",
       "\n",
       "[2 rows x 30 columns]"
      ]
     },
     "execution_count": 582,
     "metadata": {},
     "output_type": "execute_result"
    }
   ],
   "source": [
    "df1 =  pd.get_dummies(df, columns=[\"color\", \"contentrating\"],\n",
    "                         prefix=[\"color\", \"contentrating\"],\n",
    "                         drop_first=False)\n",
    "del df1 ['directorname']\n",
    "del df1 ['actor1name']\n",
    "del df1 ['actor2name']\n",
    "del df1 ['actor3name']\n",
    "del df1 ['genres']\n",
    "del df1 ['movietitle']\n",
    "del df1 ['plotkeywords']\n",
    "del df1 ['movieimdblink']\n",
    "del df1 ['language']\n",
    "del df1 ['country']\n",
    "del df1 ['imdbscore']\n",
    "         \n",
    "df1.head(2)"
   ]
  },
  {
   "cell_type": "code",
   "execution_count": 583,
   "metadata": {},
   "outputs": [
    {
     "name": "stdout",
     "output_type": "stream",
     "text": [
      "(3891, 29) (3891,)\n"
     ]
    }
   ],
   "source": [
    "y = df1['bin']\n",
    "X = df1.drop(['bin'], axis=1)\n",
    "\n",
    "print(X.shape, y.shape)"
   ]
  },
  {
   "cell_type": "code",
   "execution_count": 584,
   "metadata": {},
   "outputs": [
    {
     "data": {
      "text/plain": [
       "DecisionTreeClassifier(class_weight=None, criterion='gini', max_depth=None,\n",
       "                       max_features=None, max_leaf_nodes=None,\n",
       "                       min_impurity_decrease=0.0, min_impurity_split=None,\n",
       "                       min_samples_leaf=1, min_samples_split=2,\n",
       "                       min_weight_fraction_leaf=0.0, presort=False,\n",
       "                       random_state=None, splitter='best')"
      ]
     },
     "execution_count": 584,
     "metadata": {},
     "output_type": "execute_result"
    }
   ],
   "source": [
    "X_train, X_test, y_train, y_test = train_test_split(X,y, test_size=0.3, random_state=42)\n",
    "dt = DecisionTreeClassifier()\n",
    "dt = dt.fit(X_train, y_train)\n",
    "dt"
   ]
  },
  {
   "cell_type": "code",
   "execution_count": 585,
   "metadata": {},
   "outputs": [
    {
     "name": "stdout",
     "output_type": "stream",
     "text": [
      "0.6626712328767124\n"
     ]
    }
   ],
   "source": [
    "print(metrics.accuracy_score(y_test, dt.predict(X_test)))"
   ]
  },
  {
   "cell_type": "code",
   "execution_count": 586,
   "metadata": {},
   "outputs": [
    {
     "data": {
      "image/png": "[encoded data removed]",
      "text/plain": [
       "<Figure size 432x288 with 2 Axes>"
      ]
     },
     "metadata": {
      "needs_background": "light"
     },
     "output_type": "display_data"
    }
   ],
   "source": [
    "import scikitplot as skplt\n",
    "\n",
    "skplt.metrics.plot_confusion_matrix(y_true=np.array(y_test), y_pred=dt.predict(X_test))\n",
    "plt.show()"
   ]
  },
  {
   "cell_type": "markdown",
   "metadata": {},
   "source": [
    "This model is about 65% accurate! This isn't perfect but it is by far the best model we have evaluated thus far in this process.\n",
    "## KNN"
   ]
  },
  {
   "cell_type": "code",
   "execution_count": 587,
   "metadata": {},
   "outputs": [
    {
     "data": {
      "text/plain": [
       "KNeighborsClassifier(algorithm='auto', leaf_size=30, metric='minkowski',\n",
       "                     metric_params=None, n_jobs=None, n_neighbors=5, p=2,\n",
       "                     weights='uniform')"
      ]
     },
     "execution_count": 587,
     "metadata": {},
     "output_type": "execute_result"
    }
   ],
   "source": [
    "X_train, X_test, y_train, y_test = train_test_split(X,y, test_size=0.3, random_state=42)\n",
    "knn = KNeighborsClassifier()\n",
    "knn = knn.fit(X_train, y_train)\n",
    "knn"
   ]
  },
  {
   "cell_type": "code",
   "execution_count": 588,
   "metadata": {},
   "outputs": [
    {
     "name": "stdout",
     "output_type": "stream",
     "text": [
      "0.6626712328767124\n"
     ]
    }
   ],
   "source": [
    "print(metrics.accuracy_score(y_test, dt.predict(X_test)))"
   ]
  },
  {
   "cell_type": "markdown",
   "metadata": {},
   "source": [
    "This model has the same accuracy as the decision tree model.\n",
    "## Random Forest Regressor Model"
   ]
  },
  {
   "cell_type": "code",
   "execution_count": 589,
   "metadata": {},
   "outputs": [
    {
     "data": {
      "text/plain": [
       "0.7371575342465754"
      ]
     },
     "execution_count": 589,
     "metadata": {},
     "output_type": "execute_result"
    }
   ],
   "source": [
    "from sklearn.ensemble import RandomForestClassifier\n",
    "clf = RandomForestClassifier(n_estimators=21)    \n",
    "clf=clf.fit(X_train, y_train)\n",
    "clf.score(X_test, y_test)"
   ]
  },
  {
   "cell_type": "markdown",
   "metadata": {},
   "source": [
    "Random Forest Regressor is showing to be the best classification model we have seen thus far! It is 74% accurate in predicting the proper imdb score bin. below, also see the most important variable to the model when predicting imdb score bin."
   ]
  },
  {
   "cell_type": "code",
   "execution_count": 590,
   "metadata": {
    "scrolled": true
   },
   "outputs": [
    {
     "data": {
      "image/png": "[encoded data removed]",
      "text/plain": [
       "<Figure size 432x288 with 1 Axes>"
      ]
     },
     "metadata": {
      "needs_background": "light"
     },
     "output_type": "display_data"
    }
   ],
   "source": [
    "pd.DataFrame(clf.feature_importances_, index = X.columns,\n",
    "                                    columns=['importance']).sort_values('importance', ascending=False).plot(kind='barh', \n",
    "                                                                                                            legend=None);"
   ]
  },
  {
   "cell_type": "markdown",
   "metadata": {},
   "source": [
    "## Comparison of actual to predicted imdbscore bin"
   ]
  },
  {
   "cell_type": "code",
   "execution_count": 591,
   "metadata": {},
   "outputs": [
    {
     "name": "stdout",
     "output_type": "stream",
     "text": [
      "['Excellent' 'Good' 'Good' ... 'Good' 'Okay' 'Good']\n"
     ]
    }
   ],
   "source": [
    "predictedY = dt.predict(X)\n",
    "print(predictedY)"
   ]
  },
  {
   "cell_type": "code",
   "execution_count": 592,
   "metadata": {},
   "outputs": [
    {
     "data": {
      "text/html": [
       "<div>\n",
       "<style scoped>\n",
       "    .dataframe tbody tr th:only-of-type {\n",
       "        vertical-align: middle;\n",
       "    }\n",
       "\n",
       "    .dataframe tbody tr th {\n",
       "        vertical-align: top;\n",
       "    }\n",
       "\n",
       "    .dataframe thead th {\n",
       "        text-align: right;\n",
       "    }\n",
       "</style>\n",
       "<table border=\"1\" class=\"dataframe\">\n",
       "  <thead>\n",
       "    <tr style=\"text-align: right;\">\n",
       "      <th></th>\n",
       "      <th>predicted Y</th>\n",
       "    </tr>\n",
       "  </thead>\n",
       "  <tbody>\n",
       "    <tr>\n",
       "      <th>0</th>\n",
       "      <td>Excellent</td>\n",
       "    </tr>\n",
       "    <tr>\n",
       "      <th>1</th>\n",
       "      <td>Good</td>\n",
       "    </tr>\n",
       "    <tr>\n",
       "      <th>2</th>\n",
       "      <td>Good</td>\n",
       "    </tr>\n",
       "    <tr>\n",
       "      <th>3</th>\n",
       "      <td>Excellent</td>\n",
       "    </tr>\n",
       "    <tr>\n",
       "      <th>4</th>\n",
       "      <td>Good</td>\n",
       "    </tr>\n",
       "  </tbody>\n",
       "</table>\n",
       "</div>"
      ],
      "text/plain": [
       "  predicted Y\n",
       "0   Excellent\n",
       "1        Good\n",
       "2        Good\n",
       "3   Excellent\n",
       "4        Good"
      ]
     },
     "execution_count": 592,
     "metadata": {},
     "output_type": "execute_result"
    }
   ],
   "source": [
    "predictedY = pd.DataFrame(predictedY, columns=['predicted Y'])\n",
    "predictedY.head()"
   ]
  },
  {
   "cell_type": "code",
   "execution_count": 593,
   "metadata": {},
   "outputs": [
    {
     "data": {
      "text/html": [
       "<div>\n",
       "<style scoped>\n",
       "    .dataframe tbody tr th:only-of-type {\n",
       "        vertical-align: middle;\n",
       "    }\n",
       "\n",
       "    .dataframe tbody tr th {\n",
       "        vertical-align: top;\n",
       "    }\n",
       "\n",
       "    .dataframe thead th {\n",
       "        text-align: right;\n",
       "    }\n",
       "</style>\n",
       "<table border=\"1\" class=\"dataframe\">\n",
       "  <thead>\n",
       "    <tr style=\"text-align: right;\">\n",
       "      <th></th>\n",
       "      <th>bin</th>\n",
       "      <th>predicted Y</th>\n",
       "    </tr>\n",
       "  </thead>\n",
       "  <tbody>\n",
       "    <tr>\n",
       "      <th>0</th>\n",
       "      <td>Good</td>\n",
       "      <td>Excellent</td>\n",
       "    </tr>\n",
       "    <tr>\n",
       "      <th>1</th>\n",
       "      <td>Good</td>\n",
       "      <td>Good</td>\n",
       "    </tr>\n",
       "    <tr>\n",
       "      <th>2</th>\n",
       "      <td>Good</td>\n",
       "      <td>Good</td>\n",
       "    </tr>\n",
       "    <tr>\n",
       "      <th>3</th>\n",
       "      <td>Excellent</td>\n",
       "      <td>Excellent</td>\n",
       "    </tr>\n",
       "    <tr>\n",
       "      <th>5</th>\n",
       "      <td>Good</td>\n",
       "      <td>Good</td>\n",
       "    </tr>\n",
       "    <tr>\n",
       "      <th>6</th>\n",
       "      <td>Good</td>\n",
       "      <td>Good</td>\n",
       "    </tr>\n",
       "    <tr>\n",
       "      <th>7</th>\n",
       "      <td>Good</td>\n",
       "      <td>Good</td>\n",
       "    </tr>\n",
       "    <tr>\n",
       "      <th>8</th>\n",
       "      <td>Good</td>\n",
       "      <td>Good</td>\n",
       "    </tr>\n",
       "    <tr>\n",
       "      <th>9</th>\n",
       "      <td>Good</td>\n",
       "      <td>Good</td>\n",
       "    </tr>\n",
       "    <tr>\n",
       "      <th>10</th>\n",
       "      <td>Good</td>\n",
       "      <td>Good</td>\n",
       "    </tr>\n",
       "    <tr>\n",
       "      <th>11</th>\n",
       "      <td>Good</td>\n",
       "      <td>Good</td>\n",
       "    </tr>\n",
       "    <tr>\n",
       "      <th>12</th>\n",
       "      <td>Good</td>\n",
       "      <td>Good</td>\n",
       "    </tr>\n",
       "    <tr>\n",
       "      <th>13</th>\n",
       "      <td>Good</td>\n",
       "      <td>Good</td>\n",
       "    </tr>\n",
       "    <tr>\n",
       "      <th>14</th>\n",
       "      <td>Good</td>\n",
       "      <td>Excellent</td>\n",
       "    </tr>\n",
       "    <tr>\n",
       "      <th>15</th>\n",
       "      <td>Good</td>\n",
       "      <td>Good</td>\n",
       "    </tr>\n",
       "    <tr>\n",
       "      <th>16</th>\n",
       "      <td>Good</td>\n",
       "      <td>Excellent</td>\n",
       "    </tr>\n",
       "    <tr>\n",
       "      <th>17</th>\n",
       "      <td>Excellent</td>\n",
       "      <td>Excellent</td>\n",
       "    </tr>\n",
       "    <tr>\n",
       "      <th>18</th>\n",
       "      <td>Good</td>\n",
       "      <td>Good</td>\n",
       "    </tr>\n",
       "    <tr>\n",
       "      <th>19</th>\n",
       "      <td>Good</td>\n",
       "      <td>Good</td>\n",
       "    </tr>\n",
       "    <tr>\n",
       "      <th>20</th>\n",
       "      <td>Good</td>\n",
       "      <td>Good</td>\n",
       "    </tr>\n",
       "  </tbody>\n",
       "</table>\n",
       "</div>"
      ],
      "text/plain": [
       "          bin predicted Y\n",
       "0        Good   Excellent\n",
       "1        Good        Good\n",
       "2        Good        Good\n",
       "3   Excellent   Excellent\n",
       "5        Good        Good\n",
       "6        Good        Good\n",
       "7        Good        Good\n",
       "8        Good        Good\n",
       "9        Good        Good\n",
       "10       Good        Good\n",
       "11       Good        Good\n",
       "12       Good        Good\n",
       "13       Good        Good\n",
       "14       Good   Excellent\n",
       "15       Good        Good\n",
       "16       Good   Excellent\n",
       "17  Excellent   Excellent\n",
       "18       Good        Good\n",
       "19       Good        Good\n",
       "20       Good        Good"
      ]
     },
     "execution_count": 593,
     "metadata": {},
     "output_type": "execute_result"
    }
   ],
   "source": [
    "data = df1.join(predictedY) \n",
    "q = data[['bin','predicted Y']]\n",
    "q.head(20)"
   ]
  },
  {
   "cell_type": "markdown",
   "metadata": {},
   "source": [
    "# Clustering Analysis"
   ]
  },
  {
   "cell_type": "code",
   "execution_count": 594,
   "metadata": {},
   "outputs": [],
   "source": [
    "df.drop(['color', 'directorname', 'actor1name', 'actor2name', 'actor3name', 'genres', 'movietitle', 'plotkeywords', 'movieimdblink', 'language', 'country', 'contentrating', 'bin'], axis=1, inplace=True)"
   ]
  },
  {
   "cell_type": "markdown",
   "metadata": {},
   "source": [
    "## K means\n",
    "I chose to have 3 clusters as there were only two cluster that had significantly differnt mean imdbscores."
   ]
  },
  {
   "cell_type": "code",
   "execution_count": 595,
   "metadata": {},
   "outputs": [
    {
     "data": {
      "text/plain": [
       "KMeans(algorithm='auto', copy_x=True, init='k-means++', max_iter=300,\n",
       "       n_clusters=3, n_init=10, n_jobs=None, precompute_distances='auto',\n",
       "       random_state=0, tol=0.0001, verbose=0)"
      ]
     },
     "execution_count": 595,
     "metadata": {},
     "output_type": "execute_result"
    }
   ],
   "source": [
    "k_means = KMeans(init='k-means++', n_clusters=3, random_state=0)\n",
    "k_means.fit(df)"
   ]
  },
  {
   "cell_type": "code",
   "execution_count": 596,
   "metadata": {},
   "outputs": [
    {
     "data": {
      "text/plain": [
       "array([0, 0, 0, ..., 0, 0, 0])"
      ]
     },
     "execution_count": 596,
     "metadata": {},
     "output_type": "execute_result"
    }
   ],
   "source": [
    "k_means.labels_"
   ]
  },
  {
   "cell_type": "code",
   "execution_count": 597,
   "metadata": {},
   "outputs": [
    {
     "data": {
      "text/plain": [
       "array([[1.63202829e+02, 1.09883428e+02, 7.80586722e+02, 7.53274833e+02,\n",
       "        7.59293956e+03, 5.11193178e+07, 1.02621922e+05, 1.12760546e+04,\n",
       "        1.38085435e+00, 3.27446989e+02, 3.92357625e+07, 2.00308106e+03,\n",
       "        1.97098173e+03, 6.46227483e+00, 2.11446475e+00, 9.14384251e+03],\n",
       "       [3.63000000e+02, 1.10000000e+02, 5.84000000e+02, 7.40000000e+01,\n",
       "        6.29000000e+02, 2.20141200e+06, 6.88830000e+04, 1.17300000e+03,\n",
       "        0.00000000e+00, 2.79000000e+02, 1.22155000e+10, 2.00600000e+03,\n",
       "        3.98000000e+02, 7.00000000e+00, 1.85000000e+00, 7.00000000e+03],\n",
       "       [1.38500000e+02, 1.20750000e+02, 1.53075000e+03, 2.21000000e+02,\n",
       "        5.26750000e+02, 7.79033500e+05, 7.35975000e+04, 1.15475000e+03,\n",
       "        2.50000000e-01, 2.06250000e+02, 2.80687997e+09, 2.00275000e+03,\n",
       "        3.28750000e+02, 7.52500000e+00, 2.10000000e+00, 4.14500000e+03]])"
      ]
     },
     "execution_count": 597,
     "metadata": {},
     "output_type": "execute_result"
    }
   ],
   "source": [
    "k_means.cluster_centers_"
   ]
  },
  {
   "cell_type": "code",
   "execution_count": 598,
   "metadata": {},
   "outputs": [
    {
     "data": {
      "text/html": [
       "<div>\n",
       "<style scoped>\n",
       "    .dataframe tbody tr th:only-of-type {\n",
       "        vertical-align: middle;\n",
       "    }\n",
       "\n",
       "    .dataframe tbody tr th {\n",
       "        vertical-align: top;\n",
       "    }\n",
       "\n",
       "    .dataframe thead th {\n",
       "        text-align: right;\n",
       "    }\n",
       "</style>\n",
       "<table border=\"1\" class=\"dataframe\">\n",
       "  <thead>\n",
       "    <tr style=\"text-align: right;\">\n",
       "      <th></th>\n",
       "      <th>numcriticforreviews</th>\n",
       "      <th>duration</th>\n",
       "      <th>directorfacebooklikes</th>\n",
       "      <th>actor3facebooklikes</th>\n",
       "      <th>actor1facebooklikes</th>\n",
       "      <th>gross</th>\n",
       "      <th>numvotedusers</th>\n",
       "      <th>casttotalfacebooklikes</th>\n",
       "      <th>facenumberinposter</th>\n",
       "      <th>numuserforreviews</th>\n",
       "      <th>budget</th>\n",
       "      <th>titleyear</th>\n",
       "      <th>actor2facebooklikes</th>\n",
       "      <th>imdbscore</th>\n",
       "      <th>aspectratio</th>\n",
       "      <th>moviefacebooklikes</th>\n",
       "      <th>cluster</th>\n",
       "    </tr>\n",
       "  </thead>\n",
       "  <tbody>\n",
       "    <tr>\n",
       "      <th>0</th>\n",
       "      <td>723.0</td>\n",
       "      <td>178.0</td>\n",
       "      <td>0.0</td>\n",
       "      <td>855.0</td>\n",
       "      <td>1000.0</td>\n",
       "      <td>760505847.0</td>\n",
       "      <td>886204</td>\n",
       "      <td>4834</td>\n",
       "      <td>0.0</td>\n",
       "      <td>3054.0</td>\n",
       "      <td>237000000.0</td>\n",
       "      <td>2009.0</td>\n",
       "      <td>936.0</td>\n",
       "      <td>7.9</td>\n",
       "      <td>1.78</td>\n",
       "      <td>33000</td>\n",
       "      <td>0.0</td>\n",
       "    </tr>\n",
       "    <tr>\n",
       "      <th>1</th>\n",
       "      <td>302.0</td>\n",
       "      <td>169.0</td>\n",
       "      <td>563.0</td>\n",
       "      <td>1000.0</td>\n",
       "      <td>40000.0</td>\n",
       "      <td>309404152.0</td>\n",
       "      <td>471220</td>\n",
       "      <td>48350</td>\n",
       "      <td>0.0</td>\n",
       "      <td>1238.0</td>\n",
       "      <td>300000000.0</td>\n",
       "      <td>2007.0</td>\n",
       "      <td>5000.0</td>\n",
       "      <td>7.1</td>\n",
       "      <td>2.35</td>\n",
       "      <td>0</td>\n",
       "      <td>0.0</td>\n",
       "    </tr>\n",
       "    <tr>\n",
       "      <th>2</th>\n",
       "      <td>602.0</td>\n",
       "      <td>148.0</td>\n",
       "      <td>0.0</td>\n",
       "      <td>161.0</td>\n",
       "      <td>11000.0</td>\n",
       "      <td>200074175.0</td>\n",
       "      <td>275868</td>\n",
       "      <td>11700</td>\n",
       "      <td>1.0</td>\n",
       "      <td>994.0</td>\n",
       "      <td>245000000.0</td>\n",
       "      <td>2015.0</td>\n",
       "      <td>393.0</td>\n",
       "      <td>6.8</td>\n",
       "      <td>2.35</td>\n",
       "      <td>85000</td>\n",
       "      <td>0.0</td>\n",
       "    </tr>\n",
       "    <tr>\n",
       "      <th>3</th>\n",
       "      <td>813.0</td>\n",
       "      <td>164.0</td>\n",
       "      <td>22000.0</td>\n",
       "      <td>23000.0</td>\n",
       "      <td>27000.0</td>\n",
       "      <td>448130642.0</td>\n",
       "      <td>1144337</td>\n",
       "      <td>106759</td>\n",
       "      <td>0.0</td>\n",
       "      <td>2701.0</td>\n",
       "      <td>250000000.0</td>\n",
       "      <td>2012.0</td>\n",
       "      <td>23000.0</td>\n",
       "      <td>8.5</td>\n",
       "      <td>2.35</td>\n",
       "      <td>164000</td>\n",
       "      <td>0.0</td>\n",
       "    </tr>\n",
       "    <tr>\n",
       "      <th>5</th>\n",
       "      <td>462.0</td>\n",
       "      <td>132.0</td>\n",
       "      <td>475.0</td>\n",
       "      <td>530.0</td>\n",
       "      <td>640.0</td>\n",
       "      <td>73058679.0</td>\n",
       "      <td>212204</td>\n",
       "      <td>1873</td>\n",
       "      <td>1.0</td>\n",
       "      <td>738.0</td>\n",
       "      <td>263700000.0</td>\n",
       "      <td>2012.0</td>\n",
       "      <td>632.0</td>\n",
       "      <td>6.6</td>\n",
       "      <td>2.35</td>\n",
       "      <td>24000</td>\n",
       "      <td>0.0</td>\n",
       "    </tr>\n",
       "  </tbody>\n",
       "</table>\n",
       "</div>"
      ],
      "text/plain": [
       "   numcriticforreviews  duration  directorfacebooklikes  actor3facebooklikes  \\\n",
       "0                723.0     178.0                    0.0                855.0   \n",
       "1                302.0     169.0                  563.0               1000.0   \n",
       "2                602.0     148.0                    0.0                161.0   \n",
       "3                813.0     164.0                22000.0              23000.0   \n",
       "5                462.0     132.0                  475.0                530.0   \n",
       "\n",
       "   actor1facebooklikes        gross  numvotedusers  casttotalfacebooklikes  \\\n",
       "0               1000.0  760505847.0         886204                    4834   \n",
       "1              40000.0  309404152.0         471220                   48350   \n",
       "2              11000.0  200074175.0         275868                   11700   \n",
       "3              27000.0  448130642.0        1144337                  106759   \n",
       "5                640.0   73058679.0         212204                    1873   \n",
       "\n",
       "   facenumberinposter  numuserforreviews       budget  titleyear  \\\n",
       "0                 0.0             3054.0  237000000.0     2009.0   \n",
       "1                 0.0             1238.0  300000000.0     2007.0   \n",
       "2                 1.0              994.0  245000000.0     2015.0   \n",
       "3                 0.0             2701.0  250000000.0     2012.0   \n",
       "5                 1.0              738.0  263700000.0     2012.0   \n",
       "\n",
       "   actor2facebooklikes  imdbscore  aspectratio  moviefacebooklikes  cluster  \n",
       "0                936.0        7.9         1.78               33000      0.0  \n",
       "1               5000.0        7.1         2.35                   0      0.0  \n",
       "2                393.0        6.8         2.35               85000      0.0  \n",
       "3              23000.0        8.5         2.35              164000      0.0  \n",
       "5                632.0        6.6         2.35               24000      0.0  "
      ]
     },
     "execution_count": 598,
     "metadata": {},
     "output_type": "execute_result"
    }
   ],
   "source": [
    "df1 = pd.DataFrame(k_means.labels_, columns = ['cluster'])\n",
    "df2 = df.join(df1)\n",
    "df2.head()"
   ]
  },
  {
   "cell_type": "code",
   "execution_count": 599,
   "metadata": {
    "scrolled": true
   },
   "outputs": [
    {
     "data": {
      "text/html": [
       "<div>\n",
       "<style scoped>\n",
       "    .dataframe tbody tr th:only-of-type {\n",
       "        vertical-align: middle;\n",
       "    }\n",
       "\n",
       "    .dataframe tbody tr th {\n",
       "        vertical-align: top;\n",
       "    }\n",
       "\n",
       "    .dataframe thead th {\n",
       "        text-align: right;\n",
       "    }\n",
       "</style>\n",
       "<table border=\"1\" class=\"dataframe\">\n",
       "  <thead>\n",
       "    <tr style=\"text-align: right;\">\n",
       "      <th></th>\n",
       "      <th>numcriticforreviews</th>\n",
       "      <th>duration</th>\n",
       "      <th>directorfacebooklikes</th>\n",
       "      <th>actor3facebooklikes</th>\n",
       "      <th>actor1facebooklikes</th>\n",
       "      <th>gross</th>\n",
       "      <th>numvotedusers</th>\n",
       "      <th>casttotalfacebooklikes</th>\n",
       "      <th>facenumberinposter</th>\n",
       "      <th>numuserforreviews</th>\n",
       "      <th>budget</th>\n",
       "      <th>titleyear</th>\n",
       "      <th>actor2facebooklikes</th>\n",
       "      <th>imdbscore</th>\n",
       "      <th>aspectratio</th>\n",
       "      <th>moviefacebooklikes</th>\n",
       "    </tr>\n",
       "    <tr>\n",
       "      <th>cluster</th>\n",
       "      <th></th>\n",
       "      <th></th>\n",
       "      <th></th>\n",
       "      <th></th>\n",
       "      <th></th>\n",
       "      <th></th>\n",
       "      <th></th>\n",
       "      <th></th>\n",
       "      <th></th>\n",
       "      <th></th>\n",
       "      <th></th>\n",
       "      <th></th>\n",
       "      <th></th>\n",
       "      <th></th>\n",
       "      <th></th>\n",
       "      <th></th>\n",
       "    </tr>\n",
       "  </thead>\n",
       "  <tbody>\n",
       "    <tr>\n",
       "      <th>0.0</th>\n",
       "      <td>171.683323</td>\n",
       "      <td>111.673089</td>\n",
       "      <td>869.854004</td>\n",
       "      <td>830.34407</td>\n",
       "      <td>8160.005719</td>\n",
       "      <td>5.756335e+07</td>\n",
       "      <td>112659.949729</td>\n",
       "      <td>12220.471102</td>\n",
       "      <td>1.412402</td>\n",
       "      <td>351.03522</td>\n",
       "      <td>5.167343e+07</td>\n",
       "      <td>2003.530403</td>\n",
       "      <td>2185.022577</td>\n",
       "      <td>6.437327</td>\n",
       "      <td>2.131114</td>\n",
       "      <td>9890.487658</td>\n",
       "    </tr>\n",
       "    <tr>\n",
       "      <th>1.0</th>\n",
       "      <td>230.000000</td>\n",
       "      <td>142.000000</td>\n",
       "      <td>0.000000</td>\n",
       "      <td>1000.00000</td>\n",
       "      <td>22000.000000</td>\n",
       "      <td>9.929000e+06</td>\n",
       "      <td>152306.000000</td>\n",
       "      <td>29475.000000</td>\n",
       "      <td>0.000000</td>\n",
       "      <td>513.00000</td>\n",
       "      <td>1.500000e+07</td>\n",
       "      <td>1985.000000</td>\n",
       "      <td>5000.000000</td>\n",
       "      <td>8.000000</td>\n",
       "      <td>1.850000</td>\n",
       "      <td>16000.000000</td>\n",
       "    </tr>\n",
       "    <tr>\n",
       "      <th>2.0</th>\n",
       "      <td>176.333333</td>\n",
       "      <td>93.333333</td>\n",
       "      <td>58.333333</td>\n",
       "      <td>266.00000</td>\n",
       "      <td>19536.000000</td>\n",
       "      <td>4.151876e+07</td>\n",
       "      <td>33018.666667</td>\n",
       "      <td>20709.666667</td>\n",
       "      <td>0.666667</td>\n",
       "      <td>94.00000</td>\n",
       "      <td>1.866667e+07</td>\n",
       "      <td>2010.000000</td>\n",
       "      <td>525.000000</td>\n",
       "      <td>6.366667</td>\n",
       "      <td>1.993333</td>\n",
       "      <td>5666.666667</td>\n",
       "    </tr>\n",
       "  </tbody>\n",
       "</table>\n",
       "</div>"
      ],
      "text/plain": [
       "         numcriticforreviews    duration  directorfacebooklikes  \\\n",
       "cluster                                                           \n",
       "0.0               171.683323  111.673089             869.854004   \n",
       "1.0               230.000000  142.000000               0.000000   \n",
       "2.0               176.333333   93.333333              58.333333   \n",
       "\n",
       "         actor3facebooklikes  actor1facebooklikes         gross  \\\n",
       "cluster                                                           \n",
       "0.0                830.34407          8160.005719  5.756335e+07   \n",
       "1.0               1000.00000         22000.000000  9.929000e+06   \n",
       "2.0                266.00000         19536.000000  4.151876e+07   \n",
       "\n",
       "         numvotedusers  casttotalfacebooklikes  facenumberinposter  \\\n",
       "cluster                                                              \n",
       "0.0      112659.949729            12220.471102            1.412402   \n",
       "1.0      152306.000000            29475.000000            0.000000   \n",
       "2.0       33018.666667            20709.666667            0.666667   \n",
       "\n",
       "         numuserforreviews        budget    titleyear  actor2facebooklikes  \\\n",
       "cluster                                                                      \n",
       "0.0              351.03522  5.167343e+07  2003.530403          2185.022577   \n",
       "1.0              513.00000  1.500000e+07  1985.000000          5000.000000   \n",
       "2.0               94.00000  1.866667e+07  2010.000000           525.000000   \n",
       "\n",
       "         imdbscore  aspectratio  moviefacebooklikes  \n",
       "cluster                                              \n",
       "0.0       6.437327     2.131114         9890.487658  \n",
       "1.0       8.000000     1.850000        16000.000000  \n",
       "2.0       6.366667     1.993333         5666.666667  "
      ]
     },
     "execution_count": 599,
     "metadata": {},
     "output_type": "execute_result"
    }
   ],
   "source": [
    "df2.groupby('cluster').mean()"
   ]
  },
  {
   "cell_type": "code",
   "execution_count": 600,
   "metadata": {
    "scrolled": true
   },
   "outputs": [
    {
     "data": {
      "text/html": [
       "<div>\n",
       "<style scoped>\n",
       "    .dataframe tbody tr th:only-of-type {\n",
       "        vertical-align: middle;\n",
       "    }\n",
       "\n",
       "    .dataframe tbody tr th {\n",
       "        vertical-align: top;\n",
       "    }\n",
       "\n",
       "    .dataframe thead th {\n",
       "        text-align: right;\n",
       "    }\n",
       "</style>\n",
       "<table border=\"1\" class=\"dataframe\">\n",
       "  <thead>\n",
       "    <tr style=\"text-align: right;\">\n",
       "      <th></th>\n",
       "      <th>numcriticforreviews</th>\n",
       "      <th>duration</th>\n",
       "      <th>directorfacebooklikes</th>\n",
       "      <th>actor3facebooklikes</th>\n",
       "      <th>actor1facebooklikes</th>\n",
       "      <th>gross</th>\n",
       "      <th>numvotedusers</th>\n",
       "      <th>casttotalfacebooklikes</th>\n",
       "      <th>facenumberinposter</th>\n",
       "      <th>numuserforreviews</th>\n",
       "      <th>budget</th>\n",
       "      <th>titleyear</th>\n",
       "      <th>actor2facebooklikes</th>\n",
       "      <th>imdbscore</th>\n",
       "      <th>aspectratio</th>\n",
       "      <th>moviefacebooklikes</th>\n",
       "    </tr>\n",
       "    <tr>\n",
       "      <th>cluster</th>\n",
       "      <th></th>\n",
       "      <th></th>\n",
       "      <th></th>\n",
       "      <th></th>\n",
       "      <th></th>\n",
       "      <th></th>\n",
       "      <th></th>\n",
       "      <th></th>\n",
       "      <th></th>\n",
       "      <th></th>\n",
       "      <th></th>\n",
       "      <th></th>\n",
       "      <th></th>\n",
       "      <th></th>\n",
       "      <th></th>\n",
       "      <th></th>\n",
       "    </tr>\n",
       "  </thead>\n",
       "  <tbody>\n",
       "    <tr>\n",
       "      <th>0.0</th>\n",
       "      <td>3322</td>\n",
       "      <td>3322</td>\n",
       "      <td>3322</td>\n",
       "      <td>3322</td>\n",
       "      <td>3322</td>\n",
       "      <td>3322</td>\n",
       "      <td>3322</td>\n",
       "      <td>3322</td>\n",
       "      <td>3322</td>\n",
       "      <td>3322</td>\n",
       "      <td>3322</td>\n",
       "      <td>3322</td>\n",
       "      <td>3322</td>\n",
       "      <td>3322</td>\n",
       "      <td>3322</td>\n",
       "      <td>3322</td>\n",
       "    </tr>\n",
       "    <tr>\n",
       "      <th>1.0</th>\n",
       "      <td>1</td>\n",
       "      <td>1</td>\n",
       "      <td>1</td>\n",
       "      <td>1</td>\n",
       "      <td>1</td>\n",
       "      <td>1</td>\n",
       "      <td>1</td>\n",
       "      <td>1</td>\n",
       "      <td>1</td>\n",
       "      <td>1</td>\n",
       "      <td>1</td>\n",
       "      <td>1</td>\n",
       "      <td>1</td>\n",
       "      <td>1</td>\n",
       "      <td>1</td>\n",
       "      <td>1</td>\n",
       "    </tr>\n",
       "    <tr>\n",
       "      <th>2.0</th>\n",
       "      <td>3</td>\n",
       "      <td>3</td>\n",
       "      <td>3</td>\n",
       "      <td>3</td>\n",
       "      <td>3</td>\n",
       "      <td>3</td>\n",
       "      <td>3</td>\n",
       "      <td>3</td>\n",
       "      <td>3</td>\n",
       "      <td>3</td>\n",
       "      <td>3</td>\n",
       "      <td>3</td>\n",
       "      <td>3</td>\n",
       "      <td>3</td>\n",
       "      <td>3</td>\n",
       "      <td>3</td>\n",
       "    </tr>\n",
       "  </tbody>\n",
       "</table>\n",
       "</div>"
      ],
      "text/plain": [
       "         numcriticforreviews  duration  directorfacebooklikes  \\\n",
       "cluster                                                         \n",
       "0.0                     3322      3322                   3322   \n",
       "1.0                        1         1                      1   \n",
       "2.0                        3         3                      3   \n",
       "\n",
       "         actor3facebooklikes  actor1facebooklikes  gross  numvotedusers  \\\n",
       "cluster                                                                   \n",
       "0.0                     3322                 3322   3322           3322   \n",
       "1.0                        1                    1      1              1   \n",
       "2.0                        3                    3      3              3   \n",
       "\n",
       "         casttotalfacebooklikes  facenumberinposter  numuserforreviews  \\\n",
       "cluster                                                                  \n",
       "0.0                        3322                3322               3322   \n",
       "1.0                           1                   1                  1   \n",
       "2.0                           3                   3                  3   \n",
       "\n",
       "         budget  titleyear  actor2facebooklikes  imdbscore  aspectratio  \\\n",
       "cluster                                                                   \n",
       "0.0        3322       3322                 3322       3322         3322   \n",
       "1.0           1          1                    1          1            1   \n",
       "2.0           3          3                    3          3            3   \n",
       "\n",
       "         moviefacebooklikes  \n",
       "cluster                      \n",
       "0.0                    3322  \n",
       "1.0                       1  \n",
       "2.0                       3  "
      ]
     },
     "execution_count": 600,
     "metadata": {},
     "output_type": "execute_result"
    }
   ],
   "source": [
    "df2.groupby('cluster').count()"
   ]
  },
  {
   "cell_type": "code",
   "execution_count": 601,
   "metadata": {},
   "outputs": [
    {
     "data": {
      "text/plain": [
       "<seaborn.axisgrid.FacetGrid at 0x1c335f214a8>"
      ]
     },
     "execution_count": 601,
     "metadata": {},
     "output_type": "execute_result"
    },
    {
     "data": {
      "image/png": "[encoded data removed]",
      "text/plain": [
       "<Figure size 360x360 with 1 Axes>"
      ]
     },
     "metadata": {
      "needs_background": "light"
     },
     "output_type": "display_data"
    }
   ],
   "source": [
    "sns.lmplot(\"cluster\", \"duration\", df2, x_jitter=.15, y_jitter=.15)"
   ]
  },
  {
   "cell_type": "markdown",
   "metadata": {},
   "source": [
    "### Profiles\n",
    "#### Cluster 0: (*LARGE MAJORITY*)\n",
    "This cluster contains over 99 percent of the data points, so the profile of this seems to be almost exactly similar to the average values of the dataset as a whole.\n",
    "#### Cluster 1:\n",
    "This \"cluster\" contains only one datapoint. This datapoint could've been such an outlier that it could not be group with 99% of the dataset, but it most likely is due to the fact that we didnt normalize the data first for this clustering analysis. This data point does fit all of the characteristics of an 'excellent' rated movie on imdb, though, because it has a long duration, a high number of number of users and critics used for reviews. \n",
    "#### Cluster 2:\n",
    "Only 3 datapoints fit into this cluster. They might also be outliers in the computation as they have a short duration and a low number of number critics and users used for reviews."
   ]
  },
  {
   "cell_type": "markdown",
   "metadata": {},
   "source": [
    "# Summary\n",
    "Overall, we determined that using maching learning tools that predicting IMDB Scores was not as easy as it seems. Even though we were provided lots of data points on each movie, some that were even seemingly unecessary, but we were unable to create a model that predicted IMDB score at an accuracy of even 80% or higher. \n",
    "\n",
    "## Regression\n",
    "### SK Learn accuracy: 34.70%\n",
    "### Statmodel accuracy: 34.70%\n",
    "   * Lasso accuracy: 34.44%\n",
    "   * k=3 accuracy: 27.10%\n",
    "This method of prediction was not very accurate in this dataset. The highest accuracy rate we came accross in this analysis was just under 35%. Though it is good some kind of pattern was found, this model could only say it predicted an imdb score with 34% accuracy, and frankly that is not impressive. It could help filmmakers guess a relative score, but is not reliable and should not be implemented for accurate prediction. \n",
    "### Regression Conclusions\n",
    "   * This type of analysis is not impressive\n",
    "   * Accuracy rates for these models are far too low to be realistic predictors\n",
    "   * Should not be deployed in business decisions\n",
    "\n",
    "## Classification\n",
    "### Decision Tree accuracy: 65.50%\n",
    "### KNN accuracy: 65.50%\n",
    "### Random Forest Regressor accuracy: 74.49%\n",
    "We started our classification analysis by creating classes, or categories, based on each movie's IMDB score. These classes were bad, okay, good, and excellent, and we proved that the diffences of these classes were significantly significant. From here we created three different models, listed above, and calculated their accuracy using r-squared. The most accurate of our predictor models was the random forest regressor, and it was able to accurately predict the bin of over 74% of movies. This is over twice as accurate as the regression models we created, and was the best at predicting IMBD score' bin overall. \n",
    "### Classification Conclusions\n",
    "   * This model did a pretty good job of predicting IMBD score bins\n",
    "   * This model could be realisticly used, though is not accurate enough to be decisive\n",
    "   * Decison to use this analysis in business decisions or not should be situationally decided\n",
    "   \n",
    "## Clustering \n",
    "### K means\n",
    "This model did not prove to be very useful, just based on the sizes of the clusters it returned. Of over 3000 entries, it created cluster sizes of 3322, 1, and 3. This means it would group over 99.8% of movies into the first cluster, and that doesn't really narrow down the potential IMDB score. It basically just assigns a movie in this class the average overall IMDB score for the entire datebase. This may be a good starting place for filmmakers, but there is no reason not to just use the database mean instead of using a complex machine learning analysis in this case. Increasing and decreasing the k value did not significantly affect these results. \n",
    "### Clustering Conclusions\n",
    "   * This type of analysis is redundant of baseline calculations\n",
    "   * If business decisions were made from this model, overall mean would be easier to implement \n",
    "   * This model should not be used, as it is just a harder-to-create naive approach.\n",
    "   \n",
    "# Final Decision\n",
    "**Of the different models and analyses we explored in this notebook, the *Random Forest Regressor* is the most effective model for predicting IMDB Score with an accuracy of 74.49%.**\n",
    " \n",
    "*The following column names were the 10 most important x variables for the computation of this model:*\n",
    "     1. Numvoteduser\n",
    "     2. duration\n",
    "     3. numuserforreviews\n",
    "     4. budget\n",
    "     5. numcrticforreviews\n",
    "     6. gross\n",
    "     7. directorfacebooklikes\n",
    "     8. casttotalfacebooklikes\n",
    "     9. titleyear\n",
    "     10. actor3facebooklikes"
   ]
  },
  {
   "cell_type": "markdown",
   "metadata": {},
   "source": [
    "References: Dr. Chae, StackOverflow.com"
   ]
  }
 ],
 "metadata": {
  "kernelspec": {
   "display_name": "Python 3",
   "language": "python",
   "name": "python3"
  },
  "language_info": {
   "codemirror_mode": {
    "name": "ipython",
    "version": 3
   },
   "file_extension": ".py",
   "mimetype": "text/x-python",
   "name": "python",
   "nbconvert_exporter": "python",
   "pygments_lexer": "ipython3",
   "version": "3.7.3"
  }
 },
 "nbformat": 4,
 "nbformat_minor": 2
}
